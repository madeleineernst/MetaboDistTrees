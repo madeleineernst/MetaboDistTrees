{
 "cells": [
  {
   "cell_type": "markdown",
   "metadata": {},
   "source": [
    "## Calculate MotifTree UniFrac distances (feature based workflow)"
   ]
  },
  {
   "cell_type": "markdown",
   "metadata": {},
   "source": [
    "load libraries"
   ]
  },
  {
   "cell_type": "code",
   "execution_count": 1,
   "metadata": {},
   "outputs": [],
   "source": [
    "import pandas as pd\n",
    "import os\n",
    "import MetaboDistTrees "
   ]
  },
  {
   "cell_type": "code",
   "execution_count": 2,
   "metadata": {},
   "outputs": [],
   "source": [
    "motifs = pd.read_csv('../MetaboDistTrees/data/Mass2Motifs_Nodes_FeatureBased.tsv',sep='\\t')"
   ]
  },
  {
   "cell_type": "code",
   "execution_count": 3,
   "metadata": {},
   "outputs": [
    {
     "data": {
      "text/html": [
       "<div>\n",
       "<style scoped>\n",
       "    .dataframe tbody tr th:only-of-type {\n",
       "        vertical-align: middle;\n",
       "    }\n",
       "\n",
       "    .dataframe tbody tr th {\n",
       "        vertical-align: top;\n",
       "    }\n",
       "\n",
       "    .dataframe thead th {\n",
       "        text-align: right;\n",
       "    }\n",
       "</style>\n",
       "<table border=\"1\" class=\"dataframe\">\n",
       "  <thead>\n",
       "    <tr style=\"text-align: right;\">\n",
       "      <th></th>\n",
       "      <th>scans</th>\n",
       "      <th>precursormass</th>\n",
       "      <th>parentrt</th>\n",
       "      <th>document</th>\n",
       "      <th>motif</th>\n",
       "      <th>probability</th>\n",
       "      <th>overlap</th>\n",
       "      <th>motif_224</th>\n",
       "      <th>motif_226</th>\n",
       "      <th>motif_159</th>\n",
       "      <th>...</th>\n",
       "      <th>motif_279</th>\n",
       "      <th>motif_101</th>\n",
       "      <th>motif_194</th>\n",
       "      <th>motif_21</th>\n",
       "      <th>motif_268</th>\n",
       "      <th>motif_211</th>\n",
       "      <th>motif_59</th>\n",
       "      <th>motif_9</th>\n",
       "      <th>motif_86</th>\n",
       "      <th>motif_11</th>\n",
       "    </tr>\n",
       "  </thead>\n",
       "  <tbody>\n",
       "    <tr>\n",
       "      <th>0</th>\n",
       "      <td>1</td>\n",
       "      <td>[108.5179]</td>\n",
       "      <td>[614.7]</td>\n",
       "      <td>[1]</td>\n",
       "      <td>['motif_68']</td>\n",
       "      <td>[0.999887349136534]</td>\n",
       "      <td>[0.481143964810191]</td>\n",
       "      <td>0.0</td>\n",
       "      <td>0.0</td>\n",
       "      <td>0.0</td>\n",
       "      <td>...</td>\n",
       "      <td>0.0</td>\n",
       "      <td>0.0</td>\n",
       "      <td>0.0</td>\n",
       "      <td>0.0</td>\n",
       "      <td>0.0</td>\n",
       "      <td>0.0</td>\n",
       "      <td>0.0</td>\n",
       "      <td>0.0</td>\n",
       "      <td>0.0</td>\n",
       "      <td>0.0</td>\n",
       "    </tr>\n",
       "    <tr>\n",
       "      <th>1</th>\n",
       "      <td>3</td>\n",
       "      <td>[99.51299999999999]</td>\n",
       "      <td>[614.66]</td>\n",
       "      <td>[3]</td>\n",
       "      <td>['motif_68']</td>\n",
       "      <td>[0.9179863395371429]</td>\n",
       "      <td>[0.48705219816889295]</td>\n",
       "      <td>0.0</td>\n",
       "      <td>0.0</td>\n",
       "      <td>0.0</td>\n",
       "      <td>...</td>\n",
       "      <td>0.0</td>\n",
       "      <td>0.0</td>\n",
       "      <td>0.0</td>\n",
       "      <td>0.0</td>\n",
       "      <td>0.0</td>\n",
       "      <td>0.0</td>\n",
       "      <td>0.0</td>\n",
       "      <td>0.0</td>\n",
       "      <td>0.0</td>\n",
       "      <td>0.0</td>\n",
       "    </tr>\n",
       "    <tr>\n",
       "      <th>2</th>\n",
       "      <td>4</td>\n",
       "      <td>[176.972]</td>\n",
       "      <td>[627.39]</td>\n",
       "      <td>[4]</td>\n",
       "      <td>['motif_258']</td>\n",
       "      <td>[0.9999055546033491]</td>\n",
       "      <td>[0.38119890477732504]</td>\n",
       "      <td>0.0</td>\n",
       "      <td>0.0</td>\n",
       "      <td>0.0</td>\n",
       "      <td>...</td>\n",
       "      <td>0.0</td>\n",
       "      <td>0.0</td>\n",
       "      <td>0.0</td>\n",
       "      <td>0.0</td>\n",
       "      <td>0.0</td>\n",
       "      <td>0.0</td>\n",
       "      <td>0.0</td>\n",
       "      <td>0.0</td>\n",
       "      <td>0.0</td>\n",
       "      <td>0.0</td>\n",
       "    </tr>\n",
       "    <tr>\n",
       "      <th>3</th>\n",
       "      <td>8</td>\n",
       "      <td>[385.3466, 385.3466, 385.3466, 385.3466, 385.3...</td>\n",
       "      <td>[522.15, 522.15, 522.15, 522.15, 522.15, 522.15]</td>\n",
       "      <td>[8, 8, 8, 8, 8, 8]</td>\n",
       "      <td>['motif_150', 'motif_146', 'motif_131', 'motif...</td>\n",
       "      <td>[0.0417360419404697, 0.31512992919703803, 0.02...</td>\n",
       "      <td>[0.57934706565501, 0.558333509294337, 0.606623...</td>\n",
       "      <td>0.0</td>\n",
       "      <td>0.0</td>\n",
       "      <td>0.0</td>\n",
       "      <td>...</td>\n",
       "      <td>0.0</td>\n",
       "      <td>0.0</td>\n",
       "      <td>0.0</td>\n",
       "      <td>0.0</td>\n",
       "      <td>0.0</td>\n",
       "      <td>0.0</td>\n",
       "      <td>0.0</td>\n",
       "      <td>0.0</td>\n",
       "      <td>0.0</td>\n",
       "      <td>0.0</td>\n",
       "    </tr>\n",
       "    <tr>\n",
       "      <th>4</th>\n",
       "      <td>11</td>\n",
       "      <td>[204.9669]</td>\n",
       "      <td>[628.42]</td>\n",
       "      <td>[11]</td>\n",
       "      <td>['motif_104']</td>\n",
       "      <td>[0.49988363228626503]</td>\n",
       "      <td>[0.797610043469034]</td>\n",
       "      <td>0.0</td>\n",
       "      <td>0.0</td>\n",
       "      <td>0.0</td>\n",
       "      <td>...</td>\n",
       "      <td>0.0</td>\n",
       "      <td>0.0</td>\n",
       "      <td>0.0</td>\n",
       "      <td>0.0</td>\n",
       "      <td>0.0</td>\n",
       "      <td>0.0</td>\n",
       "      <td>0.0</td>\n",
       "      <td>0.0</td>\n",
       "      <td>0.0</td>\n",
       "      <td>0.0</td>\n",
       "    </tr>\n",
       "  </tbody>\n",
       "</table>\n",
       "<p>5 rows × 274 columns</p>\n",
       "</div>"
      ],
      "text/plain": [
       "   scans                                      precursormass  \\\n",
       "0      1                                         [108.5179]   \n",
       "1      3                                [99.51299999999999]   \n",
       "2      4                                          [176.972]   \n",
       "3      8  [385.3466, 385.3466, 385.3466, 385.3466, 385.3...   \n",
       "4     11                                         [204.9669]   \n",
       "\n",
       "                                           parentrt            document  \\\n",
       "0                                           [614.7]                 [1]   \n",
       "1                                          [614.66]                 [3]   \n",
       "2                                          [627.39]                 [4]   \n",
       "3  [522.15, 522.15, 522.15, 522.15, 522.15, 522.15]  [8, 8, 8, 8, 8, 8]   \n",
       "4                                          [628.42]                [11]   \n",
       "\n",
       "                                               motif  \\\n",
       "0                                       ['motif_68']   \n",
       "1                                       ['motif_68']   \n",
       "2                                      ['motif_258']   \n",
       "3  ['motif_150', 'motif_146', 'motif_131', 'motif...   \n",
       "4                                      ['motif_104']   \n",
       "\n",
       "                                         probability  \\\n",
       "0                                [0.999887349136534]   \n",
       "1                               [0.9179863395371429]   \n",
       "2                               [0.9999055546033491]   \n",
       "3  [0.0417360419404697, 0.31512992919703803, 0.02...   \n",
       "4                              [0.49988363228626503]   \n",
       "\n",
       "                                             overlap  motif_224  motif_226  \\\n",
       "0                                [0.481143964810191]        0.0        0.0   \n",
       "1                              [0.48705219816889295]        0.0        0.0   \n",
       "2                              [0.38119890477732504]        0.0        0.0   \n",
       "3  [0.57934706565501, 0.558333509294337, 0.606623...        0.0        0.0   \n",
       "4                                [0.797610043469034]        0.0        0.0   \n",
       "\n",
       "   motif_159    ...     motif_279  motif_101  motif_194  motif_21  motif_268  \\\n",
       "0        0.0    ...           0.0        0.0        0.0       0.0        0.0   \n",
       "1        0.0    ...           0.0        0.0        0.0       0.0        0.0   \n",
       "2        0.0    ...           0.0        0.0        0.0       0.0        0.0   \n",
       "3        0.0    ...           0.0        0.0        0.0       0.0        0.0   \n",
       "4        0.0    ...           0.0        0.0        0.0       0.0        0.0   \n",
       "\n",
       "   motif_211  motif_59  motif_9  motif_86  motif_11  \n",
       "0        0.0       0.0      0.0       0.0       0.0  \n",
       "1        0.0       0.0      0.0       0.0       0.0  \n",
       "2        0.0       0.0      0.0       0.0       0.0  \n",
       "3        0.0       0.0      0.0       0.0       0.0  \n",
       "4        0.0       0.0      0.0       0.0       0.0  \n",
       "\n",
       "[5 rows x 274 columns]"
      ]
     },
     "execution_count": 3,
     "metadata": {},
     "output_type": "execute_result"
    }
   ],
   "source": [
    "motifs.head()"
   ]
  },
  {
   "cell_type": "code",
   "execution_count": 5,
   "metadata": {},
   "outputs": [],
   "source": [
    "bt = pd.read_csv('ftp://massive.ucsd.edu/MSV000082678/updates/2018-08-02_lfnothias_4ee107d3/other/MZmine-GNPS_AG_test_featuretable.csv')"
   ]
  },
  {
   "cell_type": "code",
   "execution_count": 6,
   "metadata": {},
   "outputs": [],
   "source": [
    "bt.columns = bt.columns.str.replace(' Peak area','')"
   ]
  },
  {
   "cell_type": "code",
   "execution_count": 7,
   "metadata": {},
   "outputs": [
    {
     "data": {
      "text/html": [
       "<div>\n",
       "<style scoped>\n",
       "    .dataframe tbody tr th:only-of-type {\n",
       "        vertical-align: middle;\n",
       "    }\n",
       "\n",
       "    .dataframe tbody tr th {\n",
       "        vertical-align: top;\n",
       "    }\n",
       "\n",
       "    .dataframe thead th {\n",
       "        text-align: right;\n",
       "    }\n",
       "</style>\n",
       "<table border=\"1\" class=\"dataframe\">\n",
       "  <thead>\n",
       "    <tr style=\"text-align: right;\">\n",
       "      <th></th>\n",
       "      <th>row ID</th>\n",
       "      <th>row m/z</th>\n",
       "      <th>row retention time</th>\n",
       "      <th>row number of detected peaks</th>\n",
       "      <th>10232_P4_RE4_01_476.mzXML</th>\n",
       "      <th>10765_P4_RE9_01_482.mzXML</th>\n",
       "      <th>10546_P4_RG11_01_515.mzXML</th>\n",
       "      <th>11035_P4_RB4_01_431.mzXML</th>\n",
       "      <th>11163_P4_RB11_01_439.mzXML</th>\n",
       "      <th>13541_P4_RG3_01_506.mzXML</th>\n",
       "      <th>...</th>\n",
       "      <th>16501_P2_RD9_01_210.mzXML</th>\n",
       "      <th>14880_P3_RA3_01_290.mzXML</th>\n",
       "      <th>15581_P2_RD4_01_203.mzXML</th>\n",
       "      <th>29342_P5_RF3_01_620.mzXML</th>\n",
       "      <th>15623_P2_RC3_01_187.mzXML</th>\n",
       "      <th>12262_P1_RE5_01_94.mzXML</th>\n",
       "      <th>27373_P2_RD5_01_204.mzXML</th>\n",
       "      <th>31878_P1_RH3_01_131.mzXML</th>\n",
       "      <th>14563_P1_RE10_01_99.mzXML</th>\n",
       "      <th>Unnamed: 26</th>\n",
       "    </tr>\n",
       "  </thead>\n",
       "  <tbody>\n",
       "    <tr>\n",
       "      <th>0</th>\n",
       "      <td>1</td>\n",
       "      <td>108.517902</td>\n",
       "      <td>10.245050</td>\n",
       "      <td>19</td>\n",
       "      <td>1.389687e+06</td>\n",
       "      <td>1.401753e+06</td>\n",
       "      <td>1.402785e+06</td>\n",
       "      <td>1.655499e+06</td>\n",
       "      <td>1.426946e+06</td>\n",
       "      <td>1.405056e+06</td>\n",
       "      <td>...</td>\n",
       "      <td>1.239958e+06</td>\n",
       "      <td>1384508.972</td>\n",
       "      <td>1.321642e+06</td>\n",
       "      <td>1.342898e+06</td>\n",
       "      <td>1.428610e+06</td>\n",
       "      <td>0.0000</td>\n",
       "      <td>1.309347e+06</td>\n",
       "      <td>0.0000</td>\n",
       "      <td>0.0000</td>\n",
       "      <td>NaN</td>\n",
       "    </tr>\n",
       "    <tr>\n",
       "      <th>1</th>\n",
       "      <td>2</td>\n",
       "      <td>184.985602</td>\n",
       "      <td>10.245289</td>\n",
       "      <td>22</td>\n",
       "      <td>8.248547e+05</td>\n",
       "      <td>8.793291e+05</td>\n",
       "      <td>8.107117e+05</td>\n",
       "      <td>9.185384e+05</td>\n",
       "      <td>9.049359e+05</td>\n",
       "      <td>8.638445e+05</td>\n",
       "      <td>...</td>\n",
       "      <td>7.974609e+05</td>\n",
       "      <td>859813.054</td>\n",
       "      <td>8.211478e+05</td>\n",
       "      <td>7.643052e+05</td>\n",
       "      <td>8.594064e+05</td>\n",
       "      <td>319453.1235</td>\n",
       "      <td>8.126216e+05</td>\n",
       "      <td>321342.3140</td>\n",
       "      <td>343921.0690</td>\n",
       "      <td>NaN</td>\n",
       "    </tr>\n",
       "    <tr>\n",
       "      <th>2</th>\n",
       "      <td>3</td>\n",
       "      <td>99.513035</td>\n",
       "      <td>10.244318</td>\n",
       "      <td>19</td>\n",
       "      <td>7.799635e+05</td>\n",
       "      <td>8.090166e+05</td>\n",
       "      <td>7.848383e+05</td>\n",
       "      <td>9.183559e+05</td>\n",
       "      <td>8.693485e+05</td>\n",
       "      <td>8.253388e+05</td>\n",
       "      <td>...</td>\n",
       "      <td>6.907975e+05</td>\n",
       "      <td>755029.159</td>\n",
       "      <td>7.258752e+05</td>\n",
       "      <td>7.271235e+05</td>\n",
       "      <td>8.049578e+05</td>\n",
       "      <td>0.0000</td>\n",
       "      <td>7.299963e+05</td>\n",
       "      <td>38.4895</td>\n",
       "      <td>0.0000</td>\n",
       "      <td>NaN</td>\n",
       "    </tr>\n",
       "    <tr>\n",
       "      <th>3</th>\n",
       "      <td>4</td>\n",
       "      <td>176.971991</td>\n",
       "      <td>10.456467</td>\n",
       "      <td>15</td>\n",
       "      <td>3.371037e+06</td>\n",
       "      <td>3.594239e+06</td>\n",
       "      <td>3.335428e+06</td>\n",
       "      <td>4.762133e+06</td>\n",
       "      <td>4.446552e+06</td>\n",
       "      <td>4.146208e+06</td>\n",
       "      <td>...</td>\n",
       "      <td>1.864347e+06</td>\n",
       "      <td>3200536.931</td>\n",
       "      <td>2.686900e+06</td>\n",
       "      <td>2.419854e+06</td>\n",
       "      <td>2.592536e+06</td>\n",
       "      <td>28303.9595</td>\n",
       "      <td>2.038651e+06</td>\n",
       "      <td>83238.3495</td>\n",
       "      <td>83362.9450</td>\n",
       "      <td>NaN</td>\n",
       "    </tr>\n",
       "    <tr>\n",
       "      <th>4</th>\n",
       "      <td>6</td>\n",
       "      <td>186.956412</td>\n",
       "      <td>10.470755</td>\n",
       "      <td>15</td>\n",
       "      <td>3.649388e+06</td>\n",
       "      <td>2.918580e+06</td>\n",
       "      <td>3.566568e+06</td>\n",
       "      <td>3.498500e+06</td>\n",
       "      <td>4.051221e+06</td>\n",
       "      <td>3.776598e+06</td>\n",
       "      <td>...</td>\n",
       "      <td>2.684875e+06</td>\n",
       "      <td>2989385.944</td>\n",
       "      <td>2.762750e+06</td>\n",
       "      <td>2.746261e+06</td>\n",
       "      <td>2.481040e+06</td>\n",
       "      <td>100953.5900</td>\n",
       "      <td>2.617118e+06</td>\n",
       "      <td>430218.5365</td>\n",
       "      <td>368020.7355</td>\n",
       "      <td>NaN</td>\n",
       "    </tr>\n",
       "  </tbody>\n",
       "</table>\n",
       "<p>5 rows × 27 columns</p>\n",
       "</div>"
      ],
      "text/plain": [
       "   row ID     row m/z  row retention time  row number of detected peaks  \\\n",
       "0       1  108.517902           10.245050                            19   \n",
       "1       2  184.985602           10.245289                            22   \n",
       "2       3   99.513035           10.244318                            19   \n",
       "3       4  176.971991           10.456467                            15   \n",
       "4       6  186.956412           10.470755                            15   \n",
       "\n",
       "   10232_P4_RE4_01_476.mzXML  10765_P4_RE9_01_482.mzXML  \\\n",
       "0               1.389687e+06               1.401753e+06   \n",
       "1               8.248547e+05               8.793291e+05   \n",
       "2               7.799635e+05               8.090166e+05   \n",
       "3               3.371037e+06               3.594239e+06   \n",
       "4               3.649388e+06               2.918580e+06   \n",
       "\n",
       "   10546_P4_RG11_01_515.mzXML  11035_P4_RB4_01_431.mzXML  \\\n",
       "0                1.402785e+06               1.655499e+06   \n",
       "1                8.107117e+05               9.185384e+05   \n",
       "2                7.848383e+05               9.183559e+05   \n",
       "3                3.335428e+06               4.762133e+06   \n",
       "4                3.566568e+06               3.498500e+06   \n",
       "\n",
       "   11163_P4_RB11_01_439.mzXML  13541_P4_RG3_01_506.mzXML     ...       \\\n",
       "0                1.426946e+06               1.405056e+06     ...        \n",
       "1                9.049359e+05               8.638445e+05     ...        \n",
       "2                8.693485e+05               8.253388e+05     ...        \n",
       "3                4.446552e+06               4.146208e+06     ...        \n",
       "4                4.051221e+06               3.776598e+06     ...        \n",
       "\n",
       "   16501_P2_RD9_01_210.mzXML  14880_P3_RA3_01_290.mzXML  \\\n",
       "0               1.239958e+06                1384508.972   \n",
       "1               7.974609e+05                 859813.054   \n",
       "2               6.907975e+05                 755029.159   \n",
       "3               1.864347e+06                3200536.931   \n",
       "4               2.684875e+06                2989385.944   \n",
       "\n",
       "   15581_P2_RD4_01_203.mzXML  29342_P5_RF3_01_620.mzXML  \\\n",
       "0               1.321642e+06               1.342898e+06   \n",
       "1               8.211478e+05               7.643052e+05   \n",
       "2               7.258752e+05               7.271235e+05   \n",
       "3               2.686900e+06               2.419854e+06   \n",
       "4               2.762750e+06               2.746261e+06   \n",
       "\n",
       "   15623_P2_RC3_01_187.mzXML  12262_P1_RE5_01_94.mzXML  \\\n",
       "0               1.428610e+06                    0.0000   \n",
       "1               8.594064e+05               319453.1235   \n",
       "2               8.049578e+05                    0.0000   \n",
       "3               2.592536e+06                28303.9595   \n",
       "4               2.481040e+06               100953.5900   \n",
       "\n",
       "   27373_P2_RD5_01_204.mzXML  31878_P1_RH3_01_131.mzXML  \\\n",
       "0               1.309347e+06                     0.0000   \n",
       "1               8.126216e+05                321342.3140   \n",
       "2               7.299963e+05                    38.4895   \n",
       "3               2.038651e+06                 83238.3495   \n",
       "4               2.617118e+06                430218.5365   \n",
       "\n",
       "   14563_P1_RE10_01_99.mzXML  Unnamed: 26  \n",
       "0                     0.0000          NaN  \n",
       "1                343921.0690          NaN  \n",
       "2                     0.0000          NaN  \n",
       "3                 83362.9450          NaN  \n",
       "4                368020.7355          NaN  \n",
       "\n",
       "[5 rows x 27 columns]"
      ]
     },
     "execution_count": 7,
     "metadata": {},
     "output_type": "execute_result"
    }
   ],
   "source": [
    "bt.head()"
   ]
  },
  {
   "cell_type": "code",
   "execution_count": 8,
   "metadata": {},
   "outputs": [],
   "source": [
    "md = pd.read_csv('ftp://massive.ucsd.edu/MSV000082678/other/metadata_GNPS_table_AMG_key_ones_cleaned.txt', sep = '\\t')"
   ]
  },
  {
   "cell_type": "code",
   "execution_count": 9,
   "metadata": {},
   "outputs": [],
   "source": [
    "md = md.rename(columns = {'filename':'#SampleID'})"
   ]
  },
  {
   "cell_type": "code",
   "execution_count": 10,
   "metadata": {},
   "outputs": [
    {
     "data": {
      "text/html": [
       "<div>\n",
       "<style scoped>\n",
       "    .dataframe tbody tr th:only-of-type {\n",
       "        vertical-align: middle;\n",
       "    }\n",
       "\n",
       "    .dataframe tbody tr th {\n",
       "        vertical-align: top;\n",
       "    }\n",
       "\n",
       "    .dataframe thead th {\n",
       "        text-align: right;\n",
       "    }\n",
       "</style>\n",
       "<table border=\"1\" class=\"dataframe\">\n",
       "  <thead>\n",
       "    <tr style=\"text-align: right;\">\n",
       "      <th></th>\n",
       "      <th>#SampleID</th>\n",
       "      <th>ATTRIBUTE_SampleType</th>\n",
       "      <th>ATTRIBUTE_TypesOfPlants</th>\n",
       "      <th>ATTRIBUTE_ExerciceFrequency</th>\n",
       "      <th>ATTRIBUTE_FermentedPlantFrequency</th>\n",
       "      <th>ATTRIBUTE_Probiotic_frequence</th>\n",
       "    </tr>\n",
       "  </thead>\n",
       "  <tbody>\n",
       "    <tr>\n",
       "      <th>0</th>\n",
       "      <td>10125_P1_RA12_01_49.mzXML</td>\n",
       "      <td>SAMPLE</td>\n",
       "      <td>21_to_30</td>\n",
       "      <td>Regularly</td>\n",
       "      <td>NaN</td>\n",
       "      <td>NaN</td>\n",
       "    </tr>\n",
       "    <tr>\n",
       "      <th>1</th>\n",
       "      <td>10173_P4_RC5_01_447.mzXML</td>\n",
       "      <td>SAMPLE</td>\n",
       "      <td>11_to_20</td>\n",
       "      <td>Occasionally</td>\n",
       "      <td>Daily</td>\n",
       "      <td>Occasionally</td>\n",
       "    </tr>\n",
       "    <tr>\n",
       "      <th>2</th>\n",
       "      <td>10232_P4_RE4_01_476.mzXML</td>\n",
       "      <td>SAMPLE</td>\n",
       "      <td>Less_than_5</td>\n",
       "      <td>Occasionally</td>\n",
       "      <td>NaN</td>\n",
       "      <td>NaN</td>\n",
       "    </tr>\n",
       "    <tr>\n",
       "      <th>3</th>\n",
       "      <td>10546_P4_RG11_01_515.mzXML</td>\n",
       "      <td>SAMPLE</td>\n",
       "      <td>Less_than_5</td>\n",
       "      <td>Regularly</td>\n",
       "      <td>NaN</td>\n",
       "      <td>NaN</td>\n",
       "    </tr>\n",
       "    <tr>\n",
       "      <th>4</th>\n",
       "      <td>10710_P3_RB12_01_317.mzXML</td>\n",
       "      <td>SAMPLE</td>\n",
       "      <td>11_to_20</td>\n",
       "      <td>Regularly</td>\n",
       "      <td>NaN</td>\n",
       "      <td>NaN</td>\n",
       "    </tr>\n",
       "  </tbody>\n",
       "</table>\n",
       "</div>"
      ],
      "text/plain": [
       "                    #SampleID ATTRIBUTE_SampleType ATTRIBUTE_TypesOfPlants  \\\n",
       "0   10125_P1_RA12_01_49.mzXML               SAMPLE                21_to_30   \n",
       "1   10173_P4_RC5_01_447.mzXML               SAMPLE                11_to_20   \n",
       "2   10232_P4_RE4_01_476.mzXML               SAMPLE             Less_than_5   \n",
       "3  10546_P4_RG11_01_515.mzXML               SAMPLE             Less_than_5   \n",
       "4  10710_P3_RB12_01_317.mzXML               SAMPLE                11_to_20   \n",
       "\n",
       "  ATTRIBUTE_ExerciceFrequency ATTRIBUTE_FermentedPlantFrequency  \\\n",
       "0                   Regularly                               NaN   \n",
       "1                Occasionally                             Daily   \n",
       "2                Occasionally                               NaN   \n",
       "3                   Regularly                               NaN   \n",
       "4                   Regularly                               NaN   \n",
       "\n",
       "  ATTRIBUTE_Probiotic_frequence  \n",
       "0                           NaN  \n",
       "1                  Occasionally  \n",
       "2                           NaN  \n",
       "3                           NaN  \n",
       "4                           NaN  "
      ]
     },
     "execution_count": 10,
     "metadata": {},
     "output_type": "execute_result"
    }
   ],
   "source": [
    "md.head()"
   ]
  },
  {
   "cell_type": "code",
   "execution_count": 11,
   "metadata": {},
   "outputs": [
    {
     "data": {
      "text/plain": [
       "{'Unnamed: 26',\n",
       " 'row ID',\n",
       " 'row m/z',\n",
       " 'row number of detected peaks',\n",
       " 'row retention time'}"
      ]
     },
     "execution_count": 11,
     "metadata": {},
     "output_type": "execute_result"
    }
   ],
   "source": [
    "set(bt.columns) - set(md['#SampleID'])"
   ]
  },
  {
   "cell_type": "code",
   "execution_count": 12,
   "metadata": {},
   "outputs": [],
   "source": [
    "bt = bt.drop(['Unnamed: 26', 'row m/z','row number of detected peaks','row retention time'], axis=1)"
   ]
  },
  {
   "cell_type": "code",
   "execution_count": 13,
   "metadata": {},
   "outputs": [],
   "source": [
    "bt = bt.rename(columns = {'row ID':'#OTU ID'})"
   ]
  },
  {
   "cell_type": "code",
   "execution_count": 14,
   "metadata": {},
   "outputs": [],
   "source": [
    "MetaboDistTrees.get_motiftrees(motifs, bt, method = \"ward\", metric = \"euclidean\", outputdir = \"MotifTree/\")"
   ]
  },
  {
   "cell_type": "code",
   "execution_count": 15,
   "metadata": {},
   "outputs": [],
   "source": [
    "md.to_csv(\"ClassyTree/MetaData_AGP_Example.tsv\",sep='\\t',index=False)"
   ]
  },
  {
   "cell_type": "markdown",
   "metadata": {},
   "source": [
    "### Calculate UniFrac distances using Qiime2"
   ]
  },
  {
   "cell_type": "markdown",
   "metadata": {},
   "source": [
    "make sure to run this part within your qiime2 environment"
   ]
  },
  {
   "cell_type": "code",
   "execution_count": 1,
   "metadata": {},
   "outputs": [],
   "source": [
    "import qiime2 as q2\n",
    "import os\n",
    "path = '/Users/madeleineernst/anaconda3/envs/qiime2-2018.11/bin/' # define path to qiime2 conda environment\n",
    "os.environ['PATH'] += ':'+path"
   ]
  },
  {
   "cell_type": "code",
   "execution_count": 2,
   "metadata": {},
   "outputs": [],
   "source": [
    "! biom convert \\\n",
    "    -i MotifTree/Buckettable_Motifs.tsv \\\n",
    "    -o MotifTree/Buckettable_Motifs.biom \\\n",
    "    --table-type=\"OTU table\" --to-hdf5"
   ]
  },
  {
   "cell_type": "code",
   "execution_count": 3,
   "metadata": {},
   "outputs": [
    {
     "name": "stdout",
     "output_type": "stream",
     "text": [
      "\u001b[32mImported MotifTree/Buckettable_Motifs.biom as BIOMV210DirFmt to MotifTree/Buckettable_Motifs.qza\u001b[0m\r\n"
     ]
    }
   ],
   "source": [
    "! qiime tools import --type 'FeatureTable[Frequency]' \\\n",
    "    --input-path MotifTree/Buckettable_Motifs.biom \\\n",
    "    --output-path MotifTree/Buckettable_Motifs.qza"
   ]
  },
  {
   "cell_type": "code",
   "execution_count": 4,
   "metadata": {},
   "outputs": [
    {
     "name": "stdout",
     "output_type": "stream",
     "text": [
      "\u001b[32mImported MotifTree/Tree_Motifs.txt as NewickDirectoryFormat to MotifTree/Tree_Motifs.qza\u001b[0m\r\n"
     ]
    }
   ],
   "source": [
    "! qiime tools import --type 'Phylogeny[Rooted]' \\\n",
    "    --input-path MotifTree/Tree_Motifs.txt \\\n",
    "    --output-path MotifTree/Tree_Motifs.qza"
   ]
  },
  {
   "cell_type": "markdown",
   "metadata": {},
   "source": [
    "#### weighted UniFrac"
   ]
  },
  {
   "cell_type": "code",
   "execution_count": 5,
   "metadata": {},
   "outputs": [
    {
     "name": "stdout",
     "output_type": "stream",
     "text": [
      "\u001b[32mSaved DistanceMatrix % Properties(['phylogenetic']) to: MotifTree/weighted_unifrac_distance_matrix_Motifs.qza\u001b[0m\r\n"
     ]
    }
   ],
   "source": [
    "! qiime diversity beta-phylogenetic \\\n",
    "    --i-table MotifTree/Buckettable_Motifs.qza \\\n",
    "    --i-phylogeny MotifTree/Tree_Motifs.qza \\\n",
    "    --p-metric weighted_unifrac \\\n",
    "    --o-distance-matrix MotifTree/weighted_unifrac_distance_matrix_Motifs.qza"
   ]
  },
  {
   "cell_type": "code",
   "execution_count": 6,
   "metadata": {},
   "outputs": [
    {
     "name": "stdout",
     "output_type": "stream",
     "text": [
      "\u001b[32mSaved PCoAResults to: MotifTree/weighted_unifrac_distance_matrix_Motifs_PCoA.qza\u001b[0m\r\n"
     ]
    }
   ],
   "source": [
    "! qiime diversity pcoa \\\n",
    "    --i-distance-matrix MotifTree/weighted_unifrac_distance_matrix_Motifs.qza \\\n",
    "    --o-pcoa MotifTree/weighted_unifrac_distance_matrix_Motifs_PCoA.qza"
   ]
  },
  {
   "cell_type": "code",
   "execution_count": 7,
   "metadata": {},
   "outputs": [
    {
     "name": "stdout",
     "output_type": "stream",
     "text": [
      "\u001b[32mSaved Visualization to: MotifTree/wMotifTreeUniFrac.qzv\u001b[0m\r\n"
     ]
    }
   ],
   "source": [
    "! qiime emperor plot \\\n",
    "    --i-pcoa MotifTree/weighted_unifrac_distance_matrix_Motifs_PCoA.qza \\\n",
    "    --m-metadata-file ClassyTree/MetaData_AGP_Example.tsv \\\n",
    "    --o-visualization MotifTree/wMotifTreeUniFrac.qzv"
   ]
  },
  {
   "cell_type": "code",
   "execution_count": 8,
   "metadata": {},
   "outputs": [
    {
     "data": {
      "text/html": [
       "<div><img onload=\"(function(div, url){\n",
       "if (typeof require !== 'undefined') {\n",
       "    var baseURL = require.toUrl('').split('/').slice(0, -2).join('/');\n",
       "} else {\n",
       "    var baseURL = JSON.parse(\n",
       "        document.getElementById('jupyter-config-data').innerHTML\n",
       "    ).baseUrl.slice(0, -1);\n",
       "}\n",
       "url = baseURL + url;\n",
       "fetch(url).then(function(res) {\n",
       "    if (res.status === 404) {\n",
       "        div.innerHTML = 'Install QIIME 2 Jupyter extension with:<br />' +\n",
       "                        '<code>jupyter serverextension enable --py qiime2' +\n",
       "                        ' --sys-prefix</code><br />then restart your server.' +\n",
       "                        '<br /><br />(Interactive output not available on ' +\n",
       "                        'static notebook viewer services like nbviewer.)';\n",
       "    } else if (res.status === 409) {\n",
       "        div.innerHTML = 'Visualization no longer in scope. Re-run this cell' +\n",
       "                        ' to see the visualization.';\n",
       "    } else if (res.ok) {\n",
       "        url = res.url;\n",
       "        div.innerHTML = '<iframe src=\\'' + url + '\\' style=\\'' +\n",
       "                        'width: 100%; height: 700px; border: 0;\\'>' +\n",
       "                        '</iframe><hr />Open in a: <a href=\\'' + url + '\\'' +\n",
       "                        ' target=\\'_blank\\'>new window</a>'\n",
       "    } else {\n",
       "        div.innerHTML = 'Something has gone wrong. Check notebook server for' +\n",
       "                        ' errors.';\n",
       "    }\n",
       "});\n",
       "})(this.parentElement, '/qiime2/redirect?location=/var/folders/fh/hzqxnlrs1gg7lmdpsfbknrqc0000gn/T/qiime2-archive-rac74au8')\" src=\"data:image/gif;base64,R0lGODlhAQABAIAAAP///wAAACH5BAEAAAAALAAAAAABAAEAAAICRAEAOw==\" /></div>"
      ],
      "text/plain": [
       "<visualization: Visualization uuid: 195eee58-2e52-4702-905c-23c1dc725c49>"
      ]
     },
     "execution_count": 8,
     "metadata": {},
     "output_type": "execute_result"
    }
   ],
   "source": [
    "q2.Visualization.load('MotifTree/wMotifTreeUniFrac.qzv')"
   ]
  },
  {
   "cell_type": "markdown",
   "metadata": {},
   "source": [
    "#### unweighted UniFrac"
   ]
  },
  {
   "cell_type": "code",
   "execution_count": 9,
   "metadata": {},
   "outputs": [
    {
     "name": "stdout",
     "output_type": "stream",
     "text": [
      "\u001b[32mSaved DistanceMatrix % Properties(['phylogenetic']) to: MotifTree/unweighted_unifrac_distance_matrix_Motifs.qza\u001b[0m\r\n"
     ]
    }
   ],
   "source": [
    "! qiime diversity beta-phylogenetic \\\n",
    "    --i-table MotifTree/Buckettable_Motifs.qza \\\n",
    "    --i-phylogeny MotifTree/Tree_Motifs.qza \\\n",
    "    --p-metric unweighted_unifrac \\\n",
    "    --o-distance-matrix MotifTree/unweighted_unifrac_distance_matrix_Motifs.qza"
   ]
  },
  {
   "cell_type": "code",
   "execution_count": 10,
   "metadata": {},
   "outputs": [
    {
     "name": "stdout",
     "output_type": "stream",
     "text": [
      "\u001b[32mSaved PCoAResults to: MotifTree/unweighted_unifrac_distance_matrix_Motifs_PCoA.qza\u001b[0m\r\n"
     ]
    }
   ],
   "source": [
    "! qiime diversity pcoa \\\n",
    "    --i-distance-matrix MotifTree/unweighted_unifrac_distance_matrix_Motifs.qza \\\n",
    "    --o-pcoa MotifTree/unweighted_unifrac_distance_matrix_Motifs_PCoA.qza"
   ]
  },
  {
   "cell_type": "code",
   "execution_count": 11,
   "metadata": {},
   "outputs": [
    {
     "name": "stdout",
     "output_type": "stream",
     "text": [
      "\u001b[32mSaved Visualization to: MotifTree/uwMotifTreeUniFrac.qzv\u001b[0m\r\n"
     ]
    }
   ],
   "source": [
    "! qiime emperor plot \\\n",
    "    --i-pcoa MotifTree/unweighted_unifrac_distance_matrix_Motifs_PCoA.qza \\\n",
    "    --m-metadata-file ClassyTree/MetaData_AGP_Example.tsv \\\n",
    "    --o-visualization MotifTree/uwMotifTreeUniFrac.qzv"
   ]
  },
  {
   "cell_type": "code",
   "execution_count": 12,
   "metadata": {},
   "outputs": [
    {
     "data": {
      "text/html": [
       "<div><img onload=\"(function(div, url){\n",
       "if (typeof require !== 'undefined') {\n",
       "    var baseURL = require.toUrl('').split('/').slice(0, -2).join('/');\n",
       "} else {\n",
       "    var baseURL = JSON.parse(\n",
       "        document.getElementById('jupyter-config-data').innerHTML\n",
       "    ).baseUrl.slice(0, -1);\n",
       "}\n",
       "url = baseURL + url;\n",
       "fetch(url).then(function(res) {\n",
       "    if (res.status === 404) {\n",
       "        div.innerHTML = 'Install QIIME 2 Jupyter extension with:<br />' +\n",
       "                        '<code>jupyter serverextension enable --py qiime2' +\n",
       "                        ' --sys-prefix</code><br />then restart your server.' +\n",
       "                        '<br /><br />(Interactive output not available on ' +\n",
       "                        'static notebook viewer services like nbviewer.)';\n",
       "    } else if (res.status === 409) {\n",
       "        div.innerHTML = 'Visualization no longer in scope. Re-run this cell' +\n",
       "                        ' to see the visualization.';\n",
       "    } else if (res.ok) {\n",
       "        url = res.url;\n",
       "        div.innerHTML = '<iframe src=\\'' + url + '\\' style=\\'' +\n",
       "                        'width: 100%; height: 700px; border: 0;\\'>' +\n",
       "                        '</iframe><hr />Open in a: <a href=\\'' + url + '\\'' +\n",
       "                        ' target=\\'_blank\\'>new window</a>'\n",
       "    } else {\n",
       "        div.innerHTML = 'Something has gone wrong. Check notebook server for' +\n",
       "                        ' errors.';\n",
       "    }\n",
       "});\n",
       "})(this.parentElement, '/qiime2/redirect?location=/var/folders/fh/hzqxnlrs1gg7lmdpsfbknrqc0000gn/T/qiime2-archive-qkrq9916')\" src=\"data:image/gif;base64,R0lGODlhAQABAIAAAP///wAAACH5BAEAAAAALAAAAAABAAEAAAICRAEAOw==\" /></div>"
      ],
      "text/plain": [
       "<visualization: Visualization uuid: ce7e66a8-c6a2-4bc8-a282-2ef75fcf20f4>"
      ]
     },
     "execution_count": 12,
     "metadata": {},
     "output_type": "execute_result"
    }
   ],
   "source": [
    "q2.Visualization.load('MotifTree/uwMotifTreeUniFrac.qzv')"
   ]
  },
  {
   "cell_type": "code",
   "execution_count": null,
   "metadata": {},
   "outputs": [],
   "source": []
  }
 ],
 "metadata": {
  "kernelspec": {
   "display_name": "Python 3",
   "language": "python",
   "name": "python3"
  },
  "language_info": {
   "codemirror_mode": {
    "name": "ipython",
    "version": 3
   },
   "file_extension": ".py",
   "mimetype": "text/x-python",
   "name": "python",
   "nbconvert_exporter": "python",
   "pygments_lexer": "ipython3",
   "version": "3.5.5"
  }
 },
 "nbformat": 4,
 "nbformat_minor": 2
}
