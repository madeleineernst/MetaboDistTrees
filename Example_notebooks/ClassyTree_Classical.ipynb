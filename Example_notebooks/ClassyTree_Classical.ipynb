{
 "cells": [
  {
   "cell_type": "markdown",
   "metadata": {},
   "source": [
    "## Calculate ClassyTree UniFrac distances (classical workflow)"
   ]
  },
  {
   "cell_type": "markdown",
   "metadata": {},
   "source": [
    "Download buckettable from GNPS <br>\n",
    "Replace Job ID below with your GNPS job ID:"
   ]
  },
  {
   "cell_type": "code",
   "execution_count": 1,
   "metadata": {},
   "outputs": [
    {
     "name": "stdout",
     "output_type": "stream",
     "text": [
      "  % Total    % Received % Xferd  Average Speed   Time    Time     Time  Current\n",
      "                                 Dload  Upload   Total   Spent    Left  Speed\n",
      "100  339k    0  339k    0     0  37656      0 --:--:--  0:00:02 --:--:-- 37642     0   114k      0 --:--:--  0:00:02 --:--:--  114k\n"
     ]
    }
   ],
   "source": [
    "!curl -d \"\" 'https://gnps.ucsd.edu/ProteoSAFe/DownloadResult?task=b76dd5a123e54a7eb42765499f9163a5&view=download_cluster_buckettable' -o GNPS_Buckettable.zip"
   ]
  },
  {
   "cell_type": "code",
   "execution_count": 2,
   "metadata": {},
   "outputs": [
    {
     "name": "stdout",
     "output_type": "stream",
     "text": [
      "Archive:  GNPS_Buckettable.zip\r\n",
      "  inflating: GNPS_Buckettable/METABOLOMICS-SNETS-V2-b76dd5a1-download_cluster_buckettable-main.tsv  \r\n",
      "  inflating: GNPS_Buckettable/params.xml  \r\n",
      "  inflating: GNPS_Buckettable/clusterinfo/99f5516ab61046ec8c8a0c8f035a2880.clusterinfo  \r\n",
      "  inflating: GNPS_Buckettable/clusterinfosummarygroup_attributes_withIDs_withcomponentID/5207ac30d6054805bf09e9a49538be08.clustersummary  \r\n",
      "  inflating: GNPS_Buckettable/networkedges_selfloop/6f89d6e019364eaba19c2f237fc503db..selfloop  \r\n",
      "  inflating: GNPS_Buckettable/result_specnets_DB/562ad714cb0c425c8cd7c00ab4472463.tsv  \r\n",
      "  inflating: GNPS_Buckettable/groupmapping_converted/38eb2ddbac514d7384f1ca901558bf8a.group  \r\n"
     ]
    }
   ],
   "source": [
    "!unzip -d GNPS_Buckettable/ GNPS_Buckettable.zip"
   ]
  },
  {
   "cell_type": "markdown",
   "metadata": {},
   "source": [
    "load libraries"
   ]
  },
  {
   "cell_type": "code",
   "execution_count": 3,
   "metadata": {},
   "outputs": [],
   "source": [
    "import pandas as pd\n",
    "import os\n",
    "import MetaboDistTrees "
   ]
  },
  {
   "cell_type": "code",
   "execution_count": 4,
   "metadata": {},
   "outputs": [],
   "source": [
    "cf = pd.read_csv(\"../MetaboDistTrees/data/ClassyFireResults_Network_Classical.txt\", sep = '\\t')"
   ]
  },
  {
   "cell_type": "code",
   "execution_count": 5,
   "metadata": {},
   "outputs": [
    {
     "data": {
      "text/plain": [
       "{'Organic compounds', 'no matches'}"
      ]
     },
     "execution_count": 5,
     "metadata": {},
     "output_type": "execute_result"
    }
   ],
   "source": [
    "set(cf.CF_kingdom)"
   ]
  },
  {
   "cell_type": "code",
   "execution_count": 6,
   "metadata": {},
   "outputs": [
    {
     "data": {
      "text/html": [
       "<div>\n",
       "<style scoped>\n",
       "    .dataframe tbody tr th:only-of-type {\n",
       "        vertical-align: middle;\n",
       "    }\n",
       "\n",
       "    .dataframe tbody tr th {\n",
       "        vertical-align: top;\n",
       "    }\n",
       "\n",
       "    .dataframe thead th {\n",
       "        text-align: right;\n",
       "    }\n",
       "</style>\n",
       "<table border=\"1\" class=\"dataframe\">\n",
       "  <thead>\n",
       "    <tr style=\"text-align: right;\">\n",
       "      <th></th>\n",
       "      <th>cluster index</th>\n",
       "      <th>CF_componentindex</th>\n",
       "      <th>CF_NrNodes</th>\n",
       "      <th>CF_kingdom</th>\n",
       "      <th>CF_kingdom_score</th>\n",
       "      <th>CF_superclass</th>\n",
       "      <th>CF_superclass_score</th>\n",
       "      <th>CF_class</th>\n",
       "      <th>CF_class_score</th>\n",
       "      <th>CF_subclass</th>\n",
       "      <th>CF_subclass_score</th>\n",
       "      <th>CF_Dparent</th>\n",
       "      <th>CF_Dparent_score</th>\n",
       "      <th>CF_MFramework</th>\n",
       "      <th>CF_MFramework_score</th>\n",
       "    </tr>\n",
       "  </thead>\n",
       "  <tbody>\n",
       "    <tr>\n",
       "      <th>0</th>\n",
       "      <td>1</td>\n",
       "      <td>S1</td>\n",
       "      <td>1</td>\n",
       "      <td>no matches</td>\n",
       "      <td>NaN</td>\n",
       "      <td>no matches</td>\n",
       "      <td>NaN</td>\n",
       "      <td>no matches</td>\n",
       "      <td>NaN</td>\n",
       "      <td>no matches</td>\n",
       "      <td>NaN</td>\n",
       "      <td>no matches</td>\n",
       "      <td>NaN</td>\n",
       "      <td>no matches</td>\n",
       "      <td>NaN</td>\n",
       "    </tr>\n",
       "    <tr>\n",
       "      <th>1</th>\n",
       "      <td>6</td>\n",
       "      <td>S2</td>\n",
       "      <td>1</td>\n",
       "      <td>no matches</td>\n",
       "      <td>NaN</td>\n",
       "      <td>no matches</td>\n",
       "      <td>NaN</td>\n",
       "      <td>no matches</td>\n",
       "      <td>NaN</td>\n",
       "      <td>no matches</td>\n",
       "      <td>NaN</td>\n",
       "      <td>no matches</td>\n",
       "      <td>NaN</td>\n",
       "      <td>no matches</td>\n",
       "      <td>NaN</td>\n",
       "    </tr>\n",
       "    <tr>\n",
       "      <th>2</th>\n",
       "      <td>19</td>\n",
       "      <td>S3</td>\n",
       "      <td>1</td>\n",
       "      <td>no matches</td>\n",
       "      <td>NaN</td>\n",
       "      <td>no matches</td>\n",
       "      <td>NaN</td>\n",
       "      <td>no matches</td>\n",
       "      <td>NaN</td>\n",
       "      <td>no matches</td>\n",
       "      <td>NaN</td>\n",
       "      <td>no matches</td>\n",
       "      <td>NaN</td>\n",
       "      <td>no matches</td>\n",
       "      <td>NaN</td>\n",
       "    </tr>\n",
       "    <tr>\n",
       "      <th>3</th>\n",
       "      <td>22</td>\n",
       "      <td>S4</td>\n",
       "      <td>1</td>\n",
       "      <td>no matches</td>\n",
       "      <td>NaN</td>\n",
       "      <td>no matches</td>\n",
       "      <td>NaN</td>\n",
       "      <td>no matches</td>\n",
       "      <td>NaN</td>\n",
       "      <td>no matches</td>\n",
       "      <td>NaN</td>\n",
       "      <td>no matches</td>\n",
       "      <td>NaN</td>\n",
       "      <td>no matches</td>\n",
       "      <td>NaN</td>\n",
       "    </tr>\n",
       "    <tr>\n",
       "      <th>4</th>\n",
       "      <td>24</td>\n",
       "      <td>S5</td>\n",
       "      <td>1</td>\n",
       "      <td>no matches</td>\n",
       "      <td>NaN</td>\n",
       "      <td>no matches</td>\n",
       "      <td>NaN</td>\n",
       "      <td>no matches</td>\n",
       "      <td>NaN</td>\n",
       "      <td>no matches</td>\n",
       "      <td>NaN</td>\n",
       "      <td>no matches</td>\n",
       "      <td>NaN</td>\n",
       "      <td>no matches</td>\n",
       "      <td>NaN</td>\n",
       "    </tr>\n",
       "  </tbody>\n",
       "</table>\n",
       "</div>"
      ],
      "text/plain": [
       "   cluster index CF_componentindex  CF_NrNodes  CF_kingdom  CF_kingdom_score  \\\n",
       "0              1                S1           1  no matches               NaN   \n",
       "1              6                S2           1  no matches               NaN   \n",
       "2             19                S3           1  no matches               NaN   \n",
       "3             22                S4           1  no matches               NaN   \n",
       "4             24                S5           1  no matches               NaN   \n",
       "\n",
       "  CF_superclass  CF_superclass_score    CF_class  CF_class_score CF_subclass  \\\n",
       "0    no matches                  NaN  no matches             NaN  no matches   \n",
       "1    no matches                  NaN  no matches             NaN  no matches   \n",
       "2    no matches                  NaN  no matches             NaN  no matches   \n",
       "3    no matches                  NaN  no matches             NaN  no matches   \n",
       "4    no matches                  NaN  no matches             NaN  no matches   \n",
       "\n",
       "   CF_subclass_score  CF_Dparent  CF_Dparent_score CF_MFramework  \\\n",
       "0                NaN  no matches               NaN    no matches   \n",
       "1                NaN  no matches               NaN    no matches   \n",
       "2                NaN  no matches               NaN    no matches   \n",
       "3                NaN  no matches               NaN    no matches   \n",
       "4                NaN  no matches               NaN    no matches   \n",
       "\n",
       "   CF_MFramework_score  \n",
       "0                  NaN  \n",
       "1                  NaN  \n",
       "2                  NaN  \n",
       "3                  NaN  \n",
       "4                  NaN  "
      ]
     },
     "execution_count": 6,
     "metadata": {},
     "output_type": "execute_result"
    }
   ],
   "source": [
    "cf.head()"
   ]
  },
  {
   "cell_type": "code",
   "execution_count": 7,
   "metadata": {},
   "outputs": [],
   "source": [
    "lev = ['CF_class','CF_subclass', 'CF_Dparent','cluster.index']"
   ]
  },
  {
   "cell_type": "code",
   "execution_count": 8,
   "metadata": {},
   "outputs": [],
   "source": [
    "bt_path = 'GNPS_Buckettable/' + [x for x in os.listdir('GNPS_Buckettable/') if 'METABOLOMICS' in x][0]\n",
    "bt = pd.read_csv(bt_path, sep = '\\t')"
   ]
  },
  {
   "cell_type": "code",
   "execution_count": 9,
   "metadata": {},
   "outputs": [
    {
     "data": {
      "text/html": [
       "<div>\n",
       "<style scoped>\n",
       "    .dataframe tbody tr th:only-of-type {\n",
       "        vertical-align: middle;\n",
       "    }\n",
       "\n",
       "    .dataframe tbody tr th {\n",
       "        vertical-align: top;\n",
       "    }\n",
       "\n",
       "    .dataframe thead th {\n",
       "        text-align: right;\n",
       "    }\n",
       "</style>\n",
       "<table border=\"1\" class=\"dataframe\">\n",
       "  <thead>\n",
       "    <tr style=\"text-align: right;\">\n",
       "      <th></th>\n",
       "      <th>#OTU ID</th>\n",
       "      <th>CF231285DRB80135300mzXML</th>\n",
       "      <th>CF010355DRA50135268mzXML</th>\n",
       "      <th>CF318299DRB40135292mzXML</th>\n",
       "    </tr>\n",
       "  </thead>\n",
       "  <tbody>\n",
       "    <tr>\n",
       "      <th>0</th>\n",
       "      <td>4140</td>\n",
       "      <td>0.0</td>\n",
       "      <td>8168.0</td>\n",
       "      <td>0.0</td>\n",
       "    </tr>\n",
       "    <tr>\n",
       "      <th>1</th>\n",
       "      <td>1045</td>\n",
       "      <td>136552.0</td>\n",
       "      <td>77664.0</td>\n",
       "      <td>0.0</td>\n",
       "    </tr>\n",
       "    <tr>\n",
       "      <th>2</th>\n",
       "      <td>6776</td>\n",
       "      <td>29584.0</td>\n",
       "      <td>29328.0</td>\n",
       "      <td>0.0</td>\n",
       "    </tr>\n",
       "    <tr>\n",
       "      <th>3</th>\n",
       "      <td>9580</td>\n",
       "      <td>0.0</td>\n",
       "      <td>27872.0</td>\n",
       "      <td>11804.0</td>\n",
       "    </tr>\n",
       "    <tr>\n",
       "      <th>4</th>\n",
       "      <td>5071</td>\n",
       "      <td>13156.0</td>\n",
       "      <td>0.0</td>\n",
       "      <td>7940.0</td>\n",
       "    </tr>\n",
       "  </tbody>\n",
       "</table>\n",
       "</div>"
      ],
      "text/plain": [
       "   #OTU ID  CF231285DRB80135300mzXML  CF010355DRA50135268mzXML  \\\n",
       "0     4140                       0.0                    8168.0   \n",
       "1     1045                  136552.0                   77664.0   \n",
       "2     6776                   29584.0                   29328.0   \n",
       "3     9580                       0.0                   27872.0   \n",
       "4     5071                   13156.0                       0.0   \n",
       "\n",
       "   CF318299DRB40135292mzXML  \n",
       "0                       0.0  \n",
       "1                       0.0  \n",
       "2                       0.0  \n",
       "3                   11804.0  \n",
       "4                    7940.0  "
      ]
     },
     "execution_count": 9,
     "metadata": {},
     "output_type": "execute_result"
    }
   ],
   "source": [
    "bt.head()"
   ]
  },
  {
   "cell_type": "code",
   "execution_count": 10,
   "metadata": {},
   "outputs": [],
   "source": [
    "MetaboDistTrees.get_classytrees(cf,bt,lev,'ClassyTree/')"
   ]
  },
  {
   "cell_type": "code",
   "execution_count": 13,
   "metadata": {},
   "outputs": [],
   "source": [
    "md = pd.read_csv(\"../MetaboDistTrees/data/Metadata_DrugMetabolism_Example.txt\", sep = \"\\t\")"
   ]
  },
  {
   "cell_type": "code",
   "execution_count": 14,
   "metadata": {},
   "outputs": [
    {
     "data": {
      "text/html": [
       "<div>\n",
       "<style scoped>\n",
       "    .dataframe tbody tr th:only-of-type {\n",
       "        vertical-align: middle;\n",
       "    }\n",
       "\n",
       "    .dataframe tbody tr th {\n",
       "        vertical-align: top;\n",
       "    }\n",
       "\n",
       "    .dataframe thead th {\n",
       "        text-align: right;\n",
       "    }\n",
       "</style>\n",
       "<table border=\"1\" class=\"dataframe\">\n",
       "  <thead>\n",
       "    <tr style=\"text-align: right;\">\n",
       "      <th></th>\n",
       "      <th>#SampleID</th>\n",
       "      <th>Sample_Group</th>\n",
       "    </tr>\n",
       "  </thead>\n",
       "  <tbody>\n",
       "    <tr>\n",
       "      <th>0</th>\n",
       "      <td>CF231285DRB80135300mzXML</td>\n",
       "      <td>1</td>\n",
       "    </tr>\n",
       "    <tr>\n",
       "      <th>1</th>\n",
       "      <td>CF010355DRA50135268mzXML</td>\n",
       "      <td>2</td>\n",
       "    </tr>\n",
       "    <tr>\n",
       "      <th>2</th>\n",
       "      <td>CF318299DRB40135292mzXML</td>\n",
       "      <td>3</td>\n",
       "    </tr>\n",
       "  </tbody>\n",
       "</table>\n",
       "</div>"
      ],
      "text/plain": [
       "                  #SampleID  Sample_Group\n",
       "0  CF231285DRB80135300mzXML             1\n",
       "1  CF010355DRA50135268mzXML             2\n",
       "2  CF318299DRB40135292mzXML             3"
      ]
     },
     "execution_count": 14,
     "metadata": {},
     "output_type": "execute_result"
    }
   ],
   "source": [
    "md.head()"
   ]
  },
  {
   "cell_type": "code",
   "execution_count": 15,
   "metadata": {},
   "outputs": [
    {
     "data": {
      "text/plain": [
       "{'#OTU ID'}"
      ]
     },
     "execution_count": 15,
     "metadata": {},
     "output_type": "execute_result"
    }
   ],
   "source": [
    "set(bt.columns) - set(md['#SampleID'])"
   ]
  },
  {
   "cell_type": "markdown",
   "metadata": {},
   "source": [
    "### Calculate UniFrac distances using Qiime2"
   ]
  },
  {
   "cell_type": "markdown",
   "metadata": {},
   "source": [
    "make sure to run this part within your qiime2 environment"
   ]
  },
  {
   "cell_type": "code",
   "execution_count": 1,
   "metadata": {},
   "outputs": [],
   "source": [
    "import qiime2 as q2\n",
    "import os\n",
    "path = '/Users/madeleineernst/anaconda3/envs/qiime2-2018.11/bin/' # define path to qiime2 conda environment\n",
    "os.environ['PATH'] += ':'+path"
   ]
  },
  {
   "cell_type": "code",
   "execution_count": 2,
   "metadata": {},
   "outputs": [],
   "source": [
    "! biom convert \\\n",
    "    -i ClassyTree/Buckettable_ChemicalClasses.tsv \\\n",
    "    -o ClassyTree/Buckettable_ChemicalClasses.biom \\\n",
    "    --table-type=\"OTU table\" --to-hdf5"
   ]
  },
  {
   "cell_type": "code",
   "execution_count": 3,
   "metadata": {},
   "outputs": [
    {
     "name": "stdout",
     "output_type": "stream",
     "text": [
      "\u001b[32mImported ClassyTree/Buckettable_ChemicalClasses.biom as BIOMV210DirFmt to ClassyTree/Buckettable_ChemicalClasses.qza\u001b[0m\r\n"
     ]
    }
   ],
   "source": [
    "! qiime tools import --type 'FeatureTable[Frequency]' \\\n",
    "    --input-path ClassyTree/Buckettable_ChemicalClasses.biom \\\n",
    "    --output-path ClassyTree/Buckettable_ChemicalClasses.qza"
   ]
  },
  {
   "cell_type": "code",
   "execution_count": 4,
   "metadata": {},
   "outputs": [
    {
     "name": "stdout",
     "output_type": "stream",
     "text": [
      "\u001b[32mImported ClassyTree/NewickTree_cluster.index.txt as NewickDirectoryFormat to ClassyTree/NewickTree_ChemicalClasses.qza\u001b[0m\r\n"
     ]
    }
   ],
   "source": [
    "! qiime tools import --type 'Phylogeny[Rooted]' \\\n",
    "    --input-path ClassyTree/NewickTree_cluster.index.txt \\\n",
    "    --output-path ClassyTree/NewickTree_ChemicalClasses.qza"
   ]
  },
  {
   "cell_type": "markdown",
   "metadata": {},
   "source": [
    "#### weighted UniFrac"
   ]
  },
  {
   "cell_type": "code",
   "execution_count": 5,
   "metadata": {},
   "outputs": [
    {
     "name": "stdout",
     "output_type": "stream",
     "text": [
      "\u001b[32mSaved DistanceMatrix % Properties(['phylogenetic']) to: ClassyTree/weighted_unifrac_distance_matrix_ChemicalClasses.qza\u001b[0m\r\n"
     ]
    }
   ],
   "source": [
    "! qiime diversity beta-phylogenetic \\\n",
    "    --i-table ClassyTree/Buckettable_ChemicalClasses.qza \\\n",
    "    --i-phylogeny ClassyTree/NewickTree_ChemicalClasses.qza \\\n",
    "    --p-metric weighted_unifrac \\\n",
    "    --o-distance-matrix ClassyTree/weighted_unifrac_distance_matrix_ChemicalClasses.qza"
   ]
  },
  {
   "cell_type": "code",
   "execution_count": 6,
   "metadata": {},
   "outputs": [
    {
     "name": "stdout",
     "output_type": "stream",
     "text": [
      "\u001b[32mSaved PCoAResults to: ClassyTree/weighted_unifrac_distance_matrix_ChemicalClasses_PCoA.qza\u001b[0m\r\n"
     ]
    }
   ],
   "source": [
    "! qiime diversity pcoa \\\n",
    "    --i-distance-matrix ClassyTree/weighted_unifrac_distance_matrix_ChemicalClasses.qza \\\n",
    "    --o-pcoa ClassyTree/weighted_unifrac_distance_matrix_ChemicalClasses_PCoA.qza"
   ]
  },
  {
   "cell_type": "code",
   "execution_count": 8,
   "metadata": {},
   "outputs": [
    {
     "name": "stdout",
     "output_type": "stream",
     "text": [
      "\u001b[32mSaved Visualization to: ClassyTree/wClassyTreeUniFrac.qzv\u001b[0m\r\n"
     ]
    }
   ],
   "source": [
    "! qiime emperor plot \\\n",
    "    --i-pcoa ClassyTree/weighted_unifrac_distance_matrix_ChemicalClasses_PCoA.qza \\\n",
    "    --m-metadata-file ../MetaboDistTrees/data/Metadata_DrugMetabolism_Example.txt \\\n",
    "    --o-visualization ClassyTree/wClassyTreeUniFrac.qzv"
   ]
  },
  {
   "cell_type": "code",
   "execution_count": 9,
   "metadata": {},
   "outputs": [
    {
     "data": {
      "text/html": [
       "<div><img onload=\"(function(div, url){\n",
       "if (typeof require !== 'undefined') {\n",
       "    var baseURL = require.toUrl('').split('/').slice(0, -2).join('/');\n",
       "} else {\n",
       "    var baseURL = JSON.parse(\n",
       "        document.getElementById('jupyter-config-data').innerHTML\n",
       "    ).baseUrl.slice(0, -1);\n",
       "}\n",
       "url = baseURL + url;\n",
       "fetch(url).then(function(res) {\n",
       "    if (res.status === 404) {\n",
       "        div.innerHTML = 'Install QIIME 2 Jupyter extension with:<br />' +\n",
       "                        '<code>jupyter serverextension enable --py qiime2' +\n",
       "                        ' --sys-prefix</code><br />then restart your server.' +\n",
       "                        '<br /><br />(Interactive output not available on ' +\n",
       "                        'static notebook viewer services like nbviewer.)';\n",
       "    } else if (res.status === 409) {\n",
       "        div.innerHTML = 'Visualization no longer in scope. Re-run this cell' +\n",
       "                        ' to see the visualization.';\n",
       "    } else if (res.ok) {\n",
       "        url = res.url;\n",
       "        div.innerHTML = '<iframe src=\\'' + url + '\\' style=\\'' +\n",
       "                        'width: 100%; height: 700px; border: 0;\\'>' +\n",
       "                        '</iframe><hr />Open in a: <a href=\\'' + url + '\\'' +\n",
       "                        ' target=\\'_blank\\'>new window</a>'\n",
       "    } else {\n",
       "        div.innerHTML = 'Something has gone wrong. Check notebook server for' +\n",
       "                        ' errors.';\n",
       "    }\n",
       "});\n",
       "})(this.parentElement, '/qiime2/redirect?location=/var/folders/fh/hzqxnlrs1gg7lmdpsfbknrqc0000gn/T/qiime2-archive-eyv03bk8')\" src=\"data:image/gif;base64,R0lGODlhAQABAIAAAP///wAAACH5BAEAAAAALAAAAAABAAEAAAICRAEAOw==\" /></div>"
      ],
      "text/plain": [
       "<visualization: Visualization uuid: 13f6e017-e24d-45a0-b744-b52f513c249a>"
      ]
     },
     "execution_count": 9,
     "metadata": {},
     "output_type": "execute_result"
    }
   ],
   "source": [
    "q2.Visualization.load('ClassyTree/wClassyTreeUniFrac.qzv')"
   ]
  },
  {
   "cell_type": "markdown",
   "metadata": {},
   "source": [
    "#### unweighted UniFrac"
   ]
  },
  {
   "cell_type": "code",
   "execution_count": 10,
   "metadata": {},
   "outputs": [
    {
     "name": "stdout",
     "output_type": "stream",
     "text": [
      "\u001b[32mSaved DistanceMatrix % Properties(['phylogenetic']) to: ClassyTree/unweighted_unifrac_distance_matrix_ChemicalClasses.qza\u001b[0m\r\n"
     ]
    }
   ],
   "source": [
    "! qiime diversity beta-phylogenetic \\\n",
    "    --i-table ClassyTree/Buckettable_ChemicalClasses.qza \\\n",
    "    --i-phylogeny ClassyTree/NewickTree_ChemicalClasses.qza \\\n",
    "    --p-metric unweighted_unifrac \\\n",
    "    --o-distance-matrix ClassyTree/unweighted_unifrac_distance_matrix_ChemicalClasses.qza"
   ]
  },
  {
   "cell_type": "code",
   "execution_count": 11,
   "metadata": {},
   "outputs": [
    {
     "name": "stdout",
     "output_type": "stream",
     "text": [
      "\u001b[32mSaved PCoAResults to: ClassyTree/unweighted_unifrac_distance_matrix_ChemicalClasses_PCoA.qza\u001b[0m\r\n"
     ]
    }
   ],
   "source": [
    "! qiime diversity pcoa \\\n",
    "    --i-distance-matrix ClassyTree/unweighted_unifrac_distance_matrix_ChemicalClasses.qza \\\n",
    "    --o-pcoa ClassyTree/unweighted_unifrac_distance_matrix_ChemicalClasses_PCoA.qza"
   ]
  },
  {
   "cell_type": "code",
   "execution_count": 12,
   "metadata": {},
   "outputs": [
    {
     "name": "stdout",
     "output_type": "stream",
     "text": [
      "\u001b[32mSaved Visualization to: ClassyTree/uwClassyTreeUniFrac.qzv\u001b[0m\r\n"
     ]
    }
   ],
   "source": [
    "! qiime emperor plot \\\n",
    "    --i-pcoa ClassyTree/unweighted_unifrac_distance_matrix_ChemicalClasses_PCoA.qza \\\n",
    "    --m-metadata-file ../MetaboDistTrees/data/Metadata_DrugMetabolism_Example.txt \\\n",
    "    --o-visualization ClassyTree/uwClassyTreeUniFrac.qzv"
   ]
  },
  {
   "cell_type": "code",
   "execution_count": 13,
   "metadata": {},
   "outputs": [
    {
     "data": {
      "text/html": [
       "<div><img onload=\"(function(div, url){\n",
       "if (typeof require !== 'undefined') {\n",
       "    var baseURL = require.toUrl('').split('/').slice(0, -2).join('/');\n",
       "} else {\n",
       "    var baseURL = JSON.parse(\n",
       "        document.getElementById('jupyter-config-data').innerHTML\n",
       "    ).baseUrl.slice(0, -1);\n",
       "}\n",
       "url = baseURL + url;\n",
       "fetch(url).then(function(res) {\n",
       "    if (res.status === 404) {\n",
       "        div.innerHTML = 'Install QIIME 2 Jupyter extension with:<br />' +\n",
       "                        '<code>jupyter serverextension enable --py qiime2' +\n",
       "                        ' --sys-prefix</code><br />then restart your server.' +\n",
       "                        '<br /><br />(Interactive output not available on ' +\n",
       "                        'static notebook viewer services like nbviewer.)';\n",
       "    } else if (res.status === 409) {\n",
       "        div.innerHTML = 'Visualization no longer in scope. Re-run this cell' +\n",
       "                        ' to see the visualization.';\n",
       "    } else if (res.ok) {\n",
       "        url = res.url;\n",
       "        div.innerHTML = '<iframe src=\\'' + url + '\\' style=\\'' +\n",
       "                        'width: 100%; height: 700px; border: 0;\\'>' +\n",
       "                        '</iframe><hr />Open in a: <a href=\\'' + url + '\\'' +\n",
       "                        ' target=\\'_blank\\'>new window</a>'\n",
       "    } else {\n",
       "        div.innerHTML = 'Something has gone wrong. Check notebook server for' +\n",
       "                        ' errors.';\n",
       "    }\n",
       "});\n",
       "})(this.parentElement, '/qiime2/redirect?location=/var/folders/fh/hzqxnlrs1gg7lmdpsfbknrqc0000gn/T/qiime2-archive-75atnwu9')\" src=\"data:image/gif;base64,R0lGODlhAQABAIAAAP///wAAACH5BAEAAAAALAAAAAABAAEAAAICRAEAOw==\" /></div>"
      ],
      "text/plain": [
       "<visualization: Visualization uuid: 6197947c-fffb-46b2-8056-c48b1d29a211>"
      ]
     },
     "execution_count": 13,
     "metadata": {},
     "output_type": "execute_result"
    }
   ],
   "source": [
    "q2.Visualization.load('ClassyTree/uwClassyTreeUniFrac.qzv')"
   ]
  },
  {
   "cell_type": "code",
   "execution_count": null,
   "metadata": {},
   "outputs": [],
   "source": []
  }
 ],
 "metadata": {
  "kernelspec": {
   "display_name": "Python 3",
   "language": "python",
   "name": "python3"
  },
  "language_info": {
   "codemirror_mode": {
    "name": "ipython",
    "version": 3
   },
   "file_extension": ".py",
   "mimetype": "text/x-python",
   "name": "python",
   "nbconvert_exporter": "python",
   "pygments_lexer": "ipython3",
   "version": "3.5.5"
  }
 },
 "nbformat": 4,
 "nbformat_minor": 2
}
