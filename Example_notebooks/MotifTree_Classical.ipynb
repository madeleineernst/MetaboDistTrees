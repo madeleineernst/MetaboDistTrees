{
 "cells": [
  {
   "cell_type": "markdown",
   "metadata": {},
   "source": [
    "## Calculate MotifTree UniFrac distances (classical workflow)"
   ]
  },
  {
   "cell_type": "markdown",
   "metadata": {},
   "source": [
    "Download buckettable from GNPS <br>\n",
    "Replace Job ID below with your GNPS job ID:"
   ]
  },
  {
   "cell_type": "code",
   "execution_count": 4,
   "metadata": {},
   "outputs": [
    {
     "name": "stdout",
     "output_type": "stream",
     "text": [
      "  % Total    % Received % Xferd  Average Speed   Time    Time     Time  Current\n",
      "                                 Dload  Upload   Total   Spent    Left  Speed\n",
      "100  339k    0  339k    0     0   154k      0 --:--:--  0:00:02 --:--:--  154k\n"
     ]
    }
   ],
   "source": [
    "!curl -d \"\" 'https://gnps.ucsd.edu/ProteoSAFe/DownloadResult?task=b76dd5a123e54a7eb42765499f9163a5&view=download_cluster_buckettable' -o GNPS_Buckettable.zip"
   ]
  },
  {
   "cell_type": "code",
   "execution_count": 5,
   "metadata": {},
   "outputs": [
    {
     "name": "stdout",
     "output_type": "stream",
     "text": [
      "Archive:  GNPS_Buckettable.zip\r\n",
      "  inflating: GNPS_Buckettable/METABOLOMICS-SNETS-V2-b76dd5a1-download_cluster_buckettable-main.tsv  \r\n",
      "  inflating: GNPS_Buckettable/params.xml  \r\n",
      "  inflating: GNPS_Buckettable/clusterinfo/99f5516ab61046ec8c8a0c8f035a2880.clusterinfo  \r\n",
      "  inflating: GNPS_Buckettable/clusterinfosummarygroup_attributes_withIDs_withcomponentID/5207ac30d6054805bf09e9a49538be08.clustersummary  \r\n",
      "  inflating: GNPS_Buckettable/networkedges_selfloop/6f89d6e019364eaba19c2f237fc503db..selfloop  \r\n",
      "  inflating: GNPS_Buckettable/result_specnets_DB/562ad714cb0c425c8cd7c00ab4472463.tsv  \r\n",
      "  inflating: GNPS_Buckettable/groupmapping_converted/38eb2ddbac514d7384f1ca901558bf8a.group  \r\n"
     ]
    }
   ],
   "source": [
    "!unzip -d GNPS_Buckettable/ GNPS_Buckettable.zip"
   ]
  },
  {
   "cell_type": "markdown",
   "metadata": {},
   "source": [
    "load libraries"
   ]
  },
  {
   "cell_type": "code",
   "execution_count": 1,
   "metadata": {},
   "outputs": [],
   "source": [
    "import pandas as pd\n",
    "import os\n",
    "import MetaboDistTrees "
   ]
  },
  {
   "cell_type": "code",
   "execution_count": 2,
   "metadata": {},
   "outputs": [],
   "source": [
    "motifs = pd.read_csv('../MetaboDistTrees/data/Mass2Motifs_Nodes_Classical.tsv',sep='\\t')"
   ]
  },
  {
   "cell_type": "code",
   "execution_count": 3,
   "metadata": {},
   "outputs": [
    {
     "data": {
      "text/html": [
       "<div>\n",
       "<style scoped>\n",
       "    .dataframe tbody tr th:only-of-type {\n",
       "        vertical-align: middle;\n",
       "    }\n",
       "\n",
       "    .dataframe tbody tr th {\n",
       "        vertical-align: top;\n",
       "    }\n",
       "\n",
       "    .dataframe thead th {\n",
       "        text-align: right;\n",
       "    }\n",
       "</style>\n",
       "<table border=\"1\" class=\"dataframe\">\n",
       "  <thead>\n",
       "    <tr style=\"text-align: right;\">\n",
       "      <th></th>\n",
       "      <th>scans</th>\n",
       "      <th>precursormass</th>\n",
       "      <th>parentrt</th>\n",
       "      <th>document</th>\n",
       "      <th>motif</th>\n",
       "      <th>probability</th>\n",
       "      <th>overlap</th>\n",
       "      <th>motif_126</th>\n",
       "      <th>motif_101</th>\n",
       "      <th>motif_146</th>\n",
       "      <th>...</th>\n",
       "      <th>motif_134</th>\n",
       "      <th>motif_163</th>\n",
       "      <th>motif_13</th>\n",
       "      <th>motif_51</th>\n",
       "      <th>motif_168</th>\n",
       "      <th>motif_129</th>\n",
       "      <th>motif_2</th>\n",
       "      <th>motif_194</th>\n",
       "      <th>motif_149</th>\n",
       "      <th>motif_79</th>\n",
       "    </tr>\n",
       "  </thead>\n",
       "  <tbody>\n",
       "    <tr>\n",
       "      <th>0</th>\n",
       "      <td>6</td>\n",
       "      <td>[150.11099]</td>\n",
       "      <td>[603.357971]</td>\n",
       "      <td>[6]</td>\n",
       "      <td>['motif_18']</td>\n",
       "      <td>[0.9999626608739192]</td>\n",
       "      <td>[0.32258414714362105]</td>\n",
       "      <td>0.0</td>\n",
       "      <td>0.0</td>\n",
       "      <td>0.0</td>\n",
       "      <td>...</td>\n",
       "      <td>0.0</td>\n",
       "      <td>0.0</td>\n",
       "      <td>0.0</td>\n",
       "      <td>0.0</td>\n",
       "      <td>0.0</td>\n",
       "      <td>0.0</td>\n",
       "      <td>0.0</td>\n",
       "      <td>0.0</td>\n",
       "      <td>0.0</td>\n",
       "      <td>0.0</td>\n",
       "    </tr>\n",
       "    <tr>\n",
       "      <th>1</th>\n",
       "      <td>24</td>\n",
       "      <td>[163.09801000000002]</td>\n",
       "      <td>[749.914001]</td>\n",
       "      <td>[24]</td>\n",
       "      <td>['motif_151']</td>\n",
       "      <td>[0.9472968296275981]</td>\n",
       "      <td>[0.6157072274669539]</td>\n",
       "      <td>0.0</td>\n",
       "      <td>0.0</td>\n",
       "      <td>0.0</td>\n",
       "      <td>...</td>\n",
       "      <td>0.0</td>\n",
       "      <td>0.0</td>\n",
       "      <td>0.0</td>\n",
       "      <td>0.0</td>\n",
       "      <td>0.0</td>\n",
       "      <td>0.0</td>\n",
       "      <td>0.0</td>\n",
       "      <td>0.0</td>\n",
       "      <td>0.0</td>\n",
       "      <td>0.0</td>\n",
       "    </tr>\n",
       "    <tr>\n",
       "      <th>2</th>\n",
       "      <td>25</td>\n",
       "      <td>[165.11301, 165.11301, 165.11301]</td>\n",
       "      <td>[793.140991, 793.140991, 793.140991]</td>\n",
       "      <td>[25, 25, 25]</td>\n",
       "      <td>['motif_30', 'motif_124', 'motif_151']</td>\n",
       "      <td>[0.6139909448895849, 0.171050486200748, 0.2149...</td>\n",
       "      <td>[0.36333482888887303, 0.36431533940217503, 0.5...</td>\n",
       "      <td>0.0</td>\n",
       "      <td>0.0</td>\n",
       "      <td>0.0</td>\n",
       "      <td>...</td>\n",
       "      <td>0.0</td>\n",
       "      <td>0.0</td>\n",
       "      <td>0.0</td>\n",
       "      <td>0.0</td>\n",
       "      <td>0.0</td>\n",
       "      <td>0.0</td>\n",
       "      <td>0.0</td>\n",
       "      <td>0.0</td>\n",
       "      <td>0.0</td>\n",
       "      <td>0.0</td>\n",
       "    </tr>\n",
       "    <tr>\n",
       "      <th>3</th>\n",
       "      <td>28</td>\n",
       "      <td>[166.08599999999998, 166.08599999999998]</td>\n",
       "      <td>[61.588001, 61.588001]</td>\n",
       "      <td>[28, 28]</td>\n",
       "      <td>['motif_96', 'motif_15']</td>\n",
       "      <td>[0.0658885008503292, 0.934056497137804]</td>\n",
       "      <td>[0.719165167291396, 0.511591825256497]</td>\n",
       "      <td>0.0</td>\n",
       "      <td>0.0</td>\n",
       "      <td>0.0</td>\n",
       "      <td>...</td>\n",
       "      <td>0.0</td>\n",
       "      <td>0.0</td>\n",
       "      <td>0.0</td>\n",
       "      <td>0.0</td>\n",
       "      <td>0.0</td>\n",
       "      <td>0.0</td>\n",
       "      <td>0.0</td>\n",
       "      <td>0.0</td>\n",
       "      <td>0.0</td>\n",
       "      <td>0.0</td>\n",
       "    </tr>\n",
       "    <tr>\n",
       "      <th>4</th>\n",
       "      <td>33</td>\n",
       "      <td>[166.09801000000002, 166.09801000000002, 166.0...</td>\n",
       "      <td>[437.707001, 437.707001, 437.707001]</td>\n",
       "      <td>[33, 33, 33]</td>\n",
       "      <td>['motif_151', 'motif_178', 'motif_124']</td>\n",
       "      <td>[0.273784790619313, 0.6844753921349139, 0.0416...</td>\n",
       "      <td>[0.497580296883846, 0.320036785498011, 0.36296...</td>\n",
       "      <td>0.0</td>\n",
       "      <td>0.0</td>\n",
       "      <td>0.0</td>\n",
       "      <td>...</td>\n",
       "      <td>0.0</td>\n",
       "      <td>0.0</td>\n",
       "      <td>0.0</td>\n",
       "      <td>0.0</td>\n",
       "      <td>0.0</td>\n",
       "      <td>0.0</td>\n",
       "      <td>0.0</td>\n",
       "      <td>0.0</td>\n",
       "      <td>0.0</td>\n",
       "      <td>0.0</td>\n",
       "    </tr>\n",
       "  </tbody>\n",
       "</table>\n",
       "<p>5 rows × 184 columns</p>\n",
       "</div>"
      ],
      "text/plain": [
       "   scans                                      precursormass  \\\n",
       "0      6                                        [150.11099]   \n",
       "1     24                               [163.09801000000002]   \n",
       "2     25                  [165.11301, 165.11301, 165.11301]   \n",
       "3     28           [166.08599999999998, 166.08599999999998]   \n",
       "4     33  [166.09801000000002, 166.09801000000002, 166.0...   \n",
       "\n",
       "                               parentrt      document  \\\n",
       "0                          [603.357971]           [6]   \n",
       "1                          [749.914001]          [24]   \n",
       "2  [793.140991, 793.140991, 793.140991]  [25, 25, 25]   \n",
       "3                [61.588001, 61.588001]      [28, 28]   \n",
       "4  [437.707001, 437.707001, 437.707001]  [33, 33, 33]   \n",
       "\n",
       "                                     motif  \\\n",
       "0                             ['motif_18']   \n",
       "1                            ['motif_151']   \n",
       "2   ['motif_30', 'motif_124', 'motif_151']   \n",
       "3                 ['motif_96', 'motif_15']   \n",
       "4  ['motif_151', 'motif_178', 'motif_124']   \n",
       "\n",
       "                                         probability  \\\n",
       "0                               [0.9999626608739192]   \n",
       "1                               [0.9472968296275981]   \n",
       "2  [0.6139909448895849, 0.171050486200748, 0.2149...   \n",
       "3            [0.0658885008503292, 0.934056497137804]   \n",
       "4  [0.273784790619313, 0.6844753921349139, 0.0416...   \n",
       "\n",
       "                                             overlap  motif_126  motif_101  \\\n",
       "0                              [0.32258414714362105]        0.0        0.0   \n",
       "1                               [0.6157072274669539]        0.0        0.0   \n",
       "2  [0.36333482888887303, 0.36431533940217503, 0.5...        0.0        0.0   \n",
       "3             [0.719165167291396, 0.511591825256497]        0.0        0.0   \n",
       "4  [0.497580296883846, 0.320036785498011, 0.36296...        0.0        0.0   \n",
       "\n",
       "   motif_146    ...     motif_134  motif_163  motif_13  motif_51  motif_168  \\\n",
       "0        0.0    ...           0.0        0.0       0.0       0.0        0.0   \n",
       "1        0.0    ...           0.0        0.0       0.0       0.0        0.0   \n",
       "2        0.0    ...           0.0        0.0       0.0       0.0        0.0   \n",
       "3        0.0    ...           0.0        0.0       0.0       0.0        0.0   \n",
       "4        0.0    ...           0.0        0.0       0.0       0.0        0.0   \n",
       "\n",
       "   motif_129  motif_2  motif_194  motif_149  motif_79  \n",
       "0        0.0      0.0        0.0        0.0       0.0  \n",
       "1        0.0      0.0        0.0        0.0       0.0  \n",
       "2        0.0      0.0        0.0        0.0       0.0  \n",
       "3        0.0      0.0        0.0        0.0       0.0  \n",
       "4        0.0      0.0        0.0        0.0       0.0  \n",
       "\n",
       "[5 rows x 184 columns]"
      ]
     },
     "execution_count": 3,
     "metadata": {},
     "output_type": "execute_result"
    }
   ],
   "source": [
    "motifs.head()"
   ]
  },
  {
   "cell_type": "code",
   "execution_count": 4,
   "metadata": {},
   "outputs": [],
   "source": [
    "bt_path = 'GNPS_Buckettable/' + [x for x in os.listdir('GNPS_Buckettable/') if 'METABOLOMICS' in x][0]\n",
    "bt = pd.read_csv(bt_path, sep = '\\t')"
   ]
  },
  {
   "cell_type": "code",
   "execution_count": 5,
   "metadata": {},
   "outputs": [
    {
     "data": {
      "text/html": [
       "<div>\n",
       "<style scoped>\n",
       "    .dataframe tbody tr th:only-of-type {\n",
       "        vertical-align: middle;\n",
       "    }\n",
       "\n",
       "    .dataframe tbody tr th {\n",
       "        vertical-align: top;\n",
       "    }\n",
       "\n",
       "    .dataframe thead th {\n",
       "        text-align: right;\n",
       "    }\n",
       "</style>\n",
       "<table border=\"1\" class=\"dataframe\">\n",
       "  <thead>\n",
       "    <tr style=\"text-align: right;\">\n",
       "      <th></th>\n",
       "      <th>#OTU ID</th>\n",
       "      <th>CF231285DRB80135300mzXML</th>\n",
       "      <th>CF010355DRA50135268mzXML</th>\n",
       "      <th>CF318299DRB40135292mzXML</th>\n",
       "    </tr>\n",
       "  </thead>\n",
       "  <tbody>\n",
       "    <tr>\n",
       "      <th>0</th>\n",
       "      <td>4140</td>\n",
       "      <td>0.0</td>\n",
       "      <td>8168.0</td>\n",
       "      <td>0.0</td>\n",
       "    </tr>\n",
       "    <tr>\n",
       "      <th>1</th>\n",
       "      <td>1045</td>\n",
       "      <td>136552.0</td>\n",
       "      <td>77664.0</td>\n",
       "      <td>0.0</td>\n",
       "    </tr>\n",
       "    <tr>\n",
       "      <th>2</th>\n",
       "      <td>6776</td>\n",
       "      <td>29584.0</td>\n",
       "      <td>29328.0</td>\n",
       "      <td>0.0</td>\n",
       "    </tr>\n",
       "    <tr>\n",
       "      <th>3</th>\n",
       "      <td>9580</td>\n",
       "      <td>0.0</td>\n",
       "      <td>27872.0</td>\n",
       "      <td>11804.0</td>\n",
       "    </tr>\n",
       "    <tr>\n",
       "      <th>4</th>\n",
       "      <td>5071</td>\n",
       "      <td>13156.0</td>\n",
       "      <td>0.0</td>\n",
       "      <td>7940.0</td>\n",
       "    </tr>\n",
       "  </tbody>\n",
       "</table>\n",
       "</div>"
      ],
      "text/plain": [
       "   #OTU ID  CF231285DRB80135300mzXML  CF010355DRA50135268mzXML  \\\n",
       "0     4140                       0.0                    8168.0   \n",
       "1     1045                  136552.0                   77664.0   \n",
       "2     6776                   29584.0                   29328.0   \n",
       "3     9580                       0.0                   27872.0   \n",
       "4     5071                   13156.0                       0.0   \n",
       "\n",
       "   CF318299DRB40135292mzXML  \n",
       "0                       0.0  \n",
       "1                       0.0  \n",
       "2                       0.0  \n",
       "3                   11804.0  \n",
       "4                    7940.0  "
      ]
     },
     "execution_count": 5,
     "metadata": {},
     "output_type": "execute_result"
    }
   ],
   "source": [
    "bt.head()"
   ]
  },
  {
   "cell_type": "code",
   "execution_count": 7,
   "metadata": {},
   "outputs": [],
   "source": [
    "MetaboDistTrees.get_motiftrees(motifs, bt, method = \"ward\", metric = \"euclidean\", outputdir = \"MotifTree/\")"
   ]
  },
  {
   "cell_type": "code",
   "execution_count": 8,
   "metadata": {},
   "outputs": [],
   "source": [
    "md = pd.read_csv(\"../MetaboDistTrees/data/Metadata_DrugMetabolism_Example.txt\", sep = \"\\t\")"
   ]
  },
  {
   "cell_type": "code",
   "execution_count": 9,
   "metadata": {},
   "outputs": [
    {
     "data": {
      "text/html": [
       "<div>\n",
       "<style scoped>\n",
       "    .dataframe tbody tr th:only-of-type {\n",
       "        vertical-align: middle;\n",
       "    }\n",
       "\n",
       "    .dataframe tbody tr th {\n",
       "        vertical-align: top;\n",
       "    }\n",
       "\n",
       "    .dataframe thead th {\n",
       "        text-align: right;\n",
       "    }\n",
       "</style>\n",
       "<table border=\"1\" class=\"dataframe\">\n",
       "  <thead>\n",
       "    <tr style=\"text-align: right;\">\n",
       "      <th></th>\n",
       "      <th>#SampleID</th>\n",
       "      <th>Sample_Group</th>\n",
       "    </tr>\n",
       "  </thead>\n",
       "  <tbody>\n",
       "    <tr>\n",
       "      <th>0</th>\n",
       "      <td>CF231285DRB80135300mzXML</td>\n",
       "      <td>1</td>\n",
       "    </tr>\n",
       "    <tr>\n",
       "      <th>1</th>\n",
       "      <td>CF010355DRA50135268mzXML</td>\n",
       "      <td>2</td>\n",
       "    </tr>\n",
       "    <tr>\n",
       "      <th>2</th>\n",
       "      <td>CF318299DRB40135292mzXML</td>\n",
       "      <td>3</td>\n",
       "    </tr>\n",
       "  </tbody>\n",
       "</table>\n",
       "</div>"
      ],
      "text/plain": [
       "                  #SampleID  Sample_Group\n",
       "0  CF231285DRB80135300mzXML             1\n",
       "1  CF010355DRA50135268mzXML             2\n",
       "2  CF318299DRB40135292mzXML             3"
      ]
     },
     "execution_count": 9,
     "metadata": {},
     "output_type": "execute_result"
    }
   ],
   "source": [
    "md.head()"
   ]
  },
  {
   "cell_type": "markdown",
   "metadata": {},
   "source": [
    "are there any files in the buckettable which are not included in the metadata file?"
   ]
  },
  {
   "cell_type": "code",
   "execution_count": 10,
   "metadata": {},
   "outputs": [
    {
     "data": {
      "text/plain": [
       "{'#OTU ID'}"
      ]
     },
     "execution_count": 10,
     "metadata": {},
     "output_type": "execute_result"
    }
   ],
   "source": [
    "set(bt.columns) - set(md['#SampleID'])"
   ]
  },
  {
   "cell_type": "markdown",
   "metadata": {},
   "source": [
    "### Calculate UniFrac distances using Qiime2"
   ]
  },
  {
   "cell_type": "markdown",
   "metadata": {},
   "source": [
    "make sure to run this part within your qiime2 environment"
   ]
  },
  {
   "cell_type": "code",
   "execution_count": 1,
   "metadata": {},
   "outputs": [],
   "source": [
    "import qiime2 as q2\n",
    "import os\n",
    "path = '/Users/madeleineernst/anaconda3/envs/qiime2-2018.11/bin/' # define path to qiime2 conda environment\n",
    "os.environ['PATH'] += ':'+path"
   ]
  },
  {
   "cell_type": "code",
   "execution_count": 2,
   "metadata": {},
   "outputs": [],
   "source": [
    "! biom convert \\\n",
    "    -i MotifTree/Buckettable_Motifs.tsv \\\n",
    "    -o MotifTree/Buckettable_Motifs.biom \\\n",
    "    --table-type=\"OTU table\" --to-hdf5"
   ]
  },
  {
   "cell_type": "code",
   "execution_count": 3,
   "metadata": {},
   "outputs": [
    {
     "name": "stdout",
     "output_type": "stream",
     "text": [
      "\u001b[32mImported MotifTree/Buckettable_Motifs.biom as BIOMV210DirFmt to MotifTree/Buckettable_Motifs.qza\u001b[0m\r\n"
     ]
    }
   ],
   "source": [
    "! qiime tools import --type 'FeatureTable[Frequency]' \\\n",
    "    --input-path MotifTree/Buckettable_Motifs.biom \\\n",
    "    --output-path MotifTree/Buckettable_Motifs.qza"
   ]
  },
  {
   "cell_type": "code",
   "execution_count": 4,
   "metadata": {},
   "outputs": [
    {
     "name": "stdout",
     "output_type": "stream",
     "text": [
      "\u001b[32mImported MotifTree/Tree_Motifs.txt as NewickDirectoryFormat to MotifTree/Tree_Motifs.qza\u001b[0m\r\n"
     ]
    }
   ],
   "source": [
    "! qiime tools import --type 'Phylogeny[Rooted]' \\\n",
    "    --input-path MotifTree/Tree_Motifs.txt \\\n",
    "    --output-path MotifTree/Tree_Motifs.qza"
   ]
  },
  {
   "cell_type": "markdown",
   "metadata": {},
   "source": [
    "#### weighted UniFrac"
   ]
  },
  {
   "cell_type": "code",
   "execution_count": 5,
   "metadata": {},
   "outputs": [
    {
     "name": "stdout",
     "output_type": "stream",
     "text": [
      "\u001b[32mSaved DistanceMatrix % Properties(['phylogenetic']) to: MotifTree/weighted_unifrac_distance_matrix_Motifs.qza\u001b[0m\r\n"
     ]
    }
   ],
   "source": [
    "! qiime diversity beta-phylogenetic \\\n",
    "    --i-table MotifTree/Buckettable_Motifs.qza \\\n",
    "    --i-phylogeny MotifTree/Tree_Motifs.qza \\\n",
    "    --p-metric weighted_unifrac \\\n",
    "    --o-distance-matrix MotifTree/weighted_unifrac_distance_matrix_Motifs.qza"
   ]
  },
  {
   "cell_type": "code",
   "execution_count": 6,
   "metadata": {},
   "outputs": [
    {
     "name": "stdout",
     "output_type": "stream",
     "text": [
      "\u001b[32mSaved PCoAResults to: MotifTree/weighted_unifrac_distance_matrix_Motifs_PCoA.qza\u001b[0m\r\n"
     ]
    }
   ],
   "source": [
    "! qiime diversity pcoa \\\n",
    "    --i-distance-matrix MotifTree/weighted_unifrac_distance_matrix_Motifs.qza \\\n",
    "    --o-pcoa MotifTree/weighted_unifrac_distance_matrix_Motifs_PCoA.qza"
   ]
  },
  {
   "cell_type": "code",
   "execution_count": 7,
   "metadata": {},
   "outputs": [
    {
     "name": "stdout",
     "output_type": "stream",
     "text": [
      "\u001b[32mSaved Visualization to: MotifTree/wMotifTreeUniFrac.qzv\u001b[0m\r\n"
     ]
    }
   ],
   "source": [
    "! qiime emperor plot \\\n",
    "    --i-pcoa MotifTree/weighted_unifrac_distance_matrix_Motifs_PCoA.qza \\\n",
    "    --m-metadata-file ../MetaboDistTrees/data/Metadata_DrugMetabolism_Example.txt \\\n",
    "    --o-visualization MotifTree/wMotifTreeUniFrac.qzv"
   ]
  },
  {
   "cell_type": "code",
   "execution_count": 8,
   "metadata": {},
   "outputs": [
    {
     "data": {
      "text/html": [
       "<div><img onload=\"(function(div, url){\n",
       "if (typeof require !== 'undefined') {\n",
       "    var baseURL = require.toUrl('').split('/').slice(0, -2).join('/');\n",
       "} else {\n",
       "    var baseURL = JSON.parse(\n",
       "        document.getElementById('jupyter-config-data').innerHTML\n",
       "    ).baseUrl.slice(0, -1);\n",
       "}\n",
       "url = baseURL + url;\n",
       "fetch(url).then(function(res) {\n",
       "    if (res.status === 404) {\n",
       "        div.innerHTML = 'Install QIIME 2 Jupyter extension with:<br />' +\n",
       "                        '<code>jupyter serverextension enable --py qiime2' +\n",
       "                        ' --sys-prefix</code><br />then restart your server.' +\n",
       "                        '<br /><br />(Interactive output not available on ' +\n",
       "                        'static notebook viewer services like nbviewer.)';\n",
       "    } else if (res.status === 409) {\n",
       "        div.innerHTML = 'Visualization no longer in scope. Re-run this cell' +\n",
       "                        ' to see the visualization.';\n",
       "    } else if (res.ok) {\n",
       "        url = res.url;\n",
       "        div.innerHTML = '<iframe src=\\'' + url + '\\' style=\\'' +\n",
       "                        'width: 100%; height: 700px; border: 0;\\'>' +\n",
       "                        '</iframe><hr />Open in a: <a href=\\'' + url + '\\'' +\n",
       "                        ' target=\\'_blank\\'>new window</a>'\n",
       "    } else {\n",
       "        div.innerHTML = 'Something has gone wrong. Check notebook server for' +\n",
       "                        ' errors.';\n",
       "    }\n",
       "});\n",
       "})(this.parentElement, '/qiime2/redirect?location=/var/folders/fh/hzqxnlrs1gg7lmdpsfbknrqc0000gn/T/qiime2-archive-3cd4bwzp')\" src=\"data:image/gif;base64,R0lGODlhAQABAIAAAP///wAAACH5BAEAAAAALAAAAAABAAEAAAICRAEAOw==\" /></div>"
      ],
      "text/plain": [
       "<visualization: Visualization uuid: ff309cf9-af0d-4fd3-b3ae-d7f3f85563df>"
      ]
     },
     "execution_count": 8,
     "metadata": {},
     "output_type": "execute_result"
    }
   ],
   "source": [
    "q2.Visualization.load('MotifTree/wMotifTreeUniFrac.qzv')"
   ]
  },
  {
   "cell_type": "markdown",
   "metadata": {},
   "source": [
    "#### unweighted UniFrac"
   ]
  },
  {
   "cell_type": "code",
   "execution_count": 9,
   "metadata": {},
   "outputs": [
    {
     "name": "stdout",
     "output_type": "stream",
     "text": [
      "\u001b[32mSaved DistanceMatrix % Properties(['phylogenetic']) to: MotifTree/unweighted_unifrac_distance_matrix_Motifs.qza\u001b[0m\r\n"
     ]
    }
   ],
   "source": [
    "! qiime diversity beta-phylogenetic \\\n",
    "    --i-table MotifTree/Buckettable_Motifs.qza \\\n",
    "    --i-phylogeny MotifTree/Tree_Motifs.qza \\\n",
    "    --p-metric unweighted_unifrac \\\n",
    "    --o-distance-matrix MotifTree/unweighted_unifrac_distance_matrix_Motifs.qza"
   ]
  },
  {
   "cell_type": "code",
   "execution_count": 10,
   "metadata": {},
   "outputs": [
    {
     "name": "stdout",
     "output_type": "stream",
     "text": [
      "\u001b[32mSaved PCoAResults to: MotifTree/unweighted_unifrac_distance_matrix_Motifs_PCoA.qza\u001b[0m\r\n"
     ]
    }
   ],
   "source": [
    "! qiime diversity pcoa \\\n",
    "    --i-distance-matrix MotifTree/unweighted_unifrac_distance_matrix_Motifs.qza \\\n",
    "    --o-pcoa MotifTree/unweighted_unifrac_distance_matrix_Motifs_PCoA.qza"
   ]
  },
  {
   "cell_type": "code",
   "execution_count": 11,
   "metadata": {},
   "outputs": [
    {
     "name": "stdout",
     "output_type": "stream",
     "text": [
      "\u001b[32mSaved Visualization to: MotifTree/uwMotifTreeUniFrac.qzv\u001b[0m\r\n"
     ]
    }
   ],
   "source": [
    "! qiime emperor plot \\\n",
    "    --i-pcoa MotifTree/unweighted_unifrac_distance_matrix_Motifs_PCoA.qza \\\n",
    "    --m-metadata-file ../MetaboDistTrees/data/Metadata_DrugMetabolism_Example.txt \\\n",
    "    --o-visualization MotifTree/uwMotifTreeUniFrac.qzv"
   ]
  },
  {
   "cell_type": "code",
   "execution_count": 12,
   "metadata": {},
   "outputs": [
    {
     "data": {
      "text/html": [
       "<div><img onload=\"(function(div, url){\n",
       "if (typeof require !== 'undefined') {\n",
       "    var baseURL = require.toUrl('').split('/').slice(0, -2).join('/');\n",
       "} else {\n",
       "    var baseURL = JSON.parse(\n",
       "        document.getElementById('jupyter-config-data').innerHTML\n",
       "    ).baseUrl.slice(0, -1);\n",
       "}\n",
       "url = baseURL + url;\n",
       "fetch(url).then(function(res) {\n",
       "    if (res.status === 404) {\n",
       "        div.innerHTML = 'Install QIIME 2 Jupyter extension with:<br />' +\n",
       "                        '<code>jupyter serverextension enable --py qiime2' +\n",
       "                        ' --sys-prefix</code><br />then restart your server.' +\n",
       "                        '<br /><br />(Interactive output not available on ' +\n",
       "                        'static notebook viewer services like nbviewer.)';\n",
       "    } else if (res.status === 409) {\n",
       "        div.innerHTML = 'Visualization no longer in scope. Re-run this cell' +\n",
       "                        ' to see the visualization.';\n",
       "    } else if (res.ok) {\n",
       "        url = res.url;\n",
       "        div.innerHTML = '<iframe src=\\'' + url + '\\' style=\\'' +\n",
       "                        'width: 100%; height: 700px; border: 0;\\'>' +\n",
       "                        '</iframe><hr />Open in a: <a href=\\'' + url + '\\'' +\n",
       "                        ' target=\\'_blank\\'>new window</a>'\n",
       "    } else {\n",
       "        div.innerHTML = 'Something has gone wrong. Check notebook server for' +\n",
       "                        ' errors.';\n",
       "    }\n",
       "});\n",
       "})(this.parentElement, '/qiime2/redirect?location=/var/folders/fh/hzqxnlrs1gg7lmdpsfbknrqc0000gn/T/qiime2-archive-m4a7p2cg')\" src=\"data:image/gif;base64,R0lGODlhAQABAIAAAP///wAAACH5BAEAAAAALAAAAAABAAEAAAICRAEAOw==\" /></div>"
      ],
      "text/plain": [
       "<visualization: Visualization uuid: 7c10ef30-fa76-4d02-865a-9dc2d7757842>"
      ]
     },
     "execution_count": 12,
     "metadata": {},
     "output_type": "execute_result"
    }
   ],
   "source": [
    "q2.Visualization.load('MotifTree/uwMotifTreeUniFrac.qzv')"
   ]
  }
 ],
 "metadata": {
  "kernelspec": {
   "display_name": "Python 3",
   "language": "python",
   "name": "python3"
  },
  "language_info": {
   "codemirror_mode": {
    "name": "ipython",
    "version": 3
   },
   "file_extension": ".py",
   "mimetype": "text/x-python",
   "name": "python",
   "nbconvert_exporter": "python",
   "pygments_lexer": "ipython3",
   "version": "3.5.5"
  }
 },
 "nbformat": 4,
 "nbformat_minor": 2
}
